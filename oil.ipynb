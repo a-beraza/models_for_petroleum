{
 "cells": [
  {
   "cell_type": "code",
   "execution_count": 2,
   "id": "96722ae7",
   "metadata": {
    "ExecuteTime": {
     "end_time": "2021-11-22T18:44:05.172801Z",
     "start_time": "2021-11-22T18:44:04.007632Z"
    }
   },
   "outputs": [],
   "source": [
    "import pandas as pd\n",
    "import numpy as np\n",
    "import matplotlib.pyplot as plt"
   ]
  },
  {
   "cell_type": "code",
   "execution_count": 3,
   "id": "1ec79d71",
   "metadata": {
    "ExecuteTime": {
     "end_time": "2021-11-22T18:44:09.266385Z",
     "start_time": "2021-11-22T18:44:08.733113Z"
    }
   },
   "outputs": [],
   "source": [
    "df = pd.read_csv(\"bp-stats.csv\")"
   ]
  },
  {
   "cell_type": "code",
   "execution_count": 3,
   "id": "5fa72551",
   "metadata": {
    "ExecuteTime": {
     "end_time": "2021-11-21T09:54:00.683825Z",
     "start_time": "2021-11-21T09:54:00.477238Z"
    }
   },
   "outputs": [
    {
     "data": {
      "text/html": [
       "<div>\n",
       "<style scoped>\n",
       "    .dataframe tbody tr th:only-of-type {\n",
       "        vertical-align: middle;\n",
       "    }\n",
       "\n",
       "    .dataframe tbody tr th {\n",
       "        vertical-align: top;\n",
       "    }\n",
       "\n",
       "    .dataframe thead th {\n",
       "        text-align: right;\n",
       "    }\n",
       "</style>\n",
       "<table border=\"1\" class=\"dataframe\">\n",
       "  <thead>\n",
       "    <tr style=\"text-align: right;\">\n",
       "      <th></th>\n",
       "      <th>Country</th>\n",
       "      <th>Year</th>\n",
       "      <th>ISO3166_alpha3</th>\n",
       "      <th>ISO3166_numeric</th>\n",
       "      <th>Region</th>\n",
       "      <th>SubRegion</th>\n",
       "      <th>OPEC</th>\n",
       "      <th>EU</th>\n",
       "      <th>OECD</th>\n",
       "      <th>CIS</th>\n",
       "      <th>Var</th>\n",
       "      <th>Value</th>\n",
       "    </tr>\n",
       "  </thead>\n",
       "  <tbody>\n",
       "    <tr>\n",
       "      <th>0</th>\n",
       "      <td>Algeria</td>\n",
       "      <td>1965</td>\n",
       "      <td>DZA</td>\n",
       "      <td>12.0</td>\n",
       "      <td>Africa</td>\n",
       "      <td>Northern Africa</td>\n",
       "      <td>1.0</td>\n",
       "      <td>0.0</td>\n",
       "      <td>0.0</td>\n",
       "      <td>0.0</td>\n",
       "      <td>wind_twh</td>\n",
       "      <td>0.0</td>\n",
       "    </tr>\n",
       "    <tr>\n",
       "      <th>1</th>\n",
       "      <td>Algeria</td>\n",
       "      <td>1966</td>\n",
       "      <td>DZA</td>\n",
       "      <td>12.0</td>\n",
       "      <td>Africa</td>\n",
       "      <td>Northern Africa</td>\n",
       "      <td>1.0</td>\n",
       "      <td>0.0</td>\n",
       "      <td>0.0</td>\n",
       "      <td>0.0</td>\n",
       "      <td>wind_twh</td>\n",
       "      <td>0.0</td>\n",
       "    </tr>\n",
       "    <tr>\n",
       "      <th>2</th>\n",
       "      <td>Algeria</td>\n",
       "      <td>1967</td>\n",
       "      <td>DZA</td>\n",
       "      <td>12.0</td>\n",
       "      <td>Africa</td>\n",
       "      <td>Northern Africa</td>\n",
       "      <td>1.0</td>\n",
       "      <td>0.0</td>\n",
       "      <td>0.0</td>\n",
       "      <td>0.0</td>\n",
       "      <td>wind_twh</td>\n",
       "      <td>0.0</td>\n",
       "    </tr>\n",
       "    <tr>\n",
       "      <th>3</th>\n",
       "      <td>Algeria</td>\n",
       "      <td>1968</td>\n",
       "      <td>DZA</td>\n",
       "      <td>12.0</td>\n",
       "      <td>Africa</td>\n",
       "      <td>Northern Africa</td>\n",
       "      <td>1.0</td>\n",
       "      <td>0.0</td>\n",
       "      <td>0.0</td>\n",
       "      <td>0.0</td>\n",
       "      <td>wind_twh</td>\n",
       "      <td>0.0</td>\n",
       "    </tr>\n",
       "    <tr>\n",
       "      <th>4</th>\n",
       "      <td>Algeria</td>\n",
       "      <td>1969</td>\n",
       "      <td>DZA</td>\n",
       "      <td>12.0</td>\n",
       "      <td>Africa</td>\n",
       "      <td>Northern Africa</td>\n",
       "      <td>1.0</td>\n",
       "      <td>0.0</td>\n",
       "      <td>0.0</td>\n",
       "      <td>0.0</td>\n",
       "      <td>wind_twh</td>\n",
       "      <td>0.0</td>\n",
       "    </tr>\n",
       "  </tbody>\n",
       "</table>\n",
       "</div>"
      ],
      "text/plain": [
       "   Country  Year ISO3166_alpha3  ISO3166_numeric  Region        SubRegion  \\\n",
       "0  Algeria  1965            DZA             12.0  Africa  Northern Africa   \n",
       "1  Algeria  1966            DZA             12.0  Africa  Northern Africa   \n",
       "2  Algeria  1967            DZA             12.0  Africa  Northern Africa   \n",
       "3  Algeria  1968            DZA             12.0  Africa  Northern Africa   \n",
       "4  Algeria  1969            DZA             12.0  Africa  Northern Africa   \n",
       "\n",
       "   OPEC   EU  OECD  CIS       Var  Value  \n",
       "0   1.0  0.0   0.0  0.0  wind_twh    0.0  \n",
       "1   1.0  0.0   0.0  0.0  wind_twh    0.0  \n",
       "2   1.0  0.0   0.0  0.0  wind_twh    0.0  \n",
       "3   1.0  0.0   0.0  0.0  wind_twh    0.0  \n",
       "4   1.0  0.0   0.0  0.0  wind_twh    0.0  "
      ]
     },
     "execution_count": 3,
     "metadata": {},
     "output_type": "execute_result"
    }
   ],
   "source": [
    "df.head()"
   ]
  },
  {
   "cell_type": "code",
   "execution_count": 4,
   "id": "fe0ccb38",
   "metadata": {
    "ExecuteTime": {
     "end_time": "2021-11-21T09:55:01.487092Z",
     "start_time": "2021-11-21T09:55:01.432867Z"
    }
   },
   "outputs": [
    {
     "data": {
      "text/plain": [
       "<bound method DataFrame.info of          Country  Year ISO3166_alpha3  ISO3166_numeric  Region  \\\n",
       "0        Algeria  1965            DZA             12.0  Africa   \n",
       "1        Algeria  1966            DZA             12.0  Africa   \n",
       "2        Algeria  1967            DZA             12.0  Africa   \n",
       "3        Algeria  1968            DZA             12.0  Africa   \n",
       "4        Algeria  1969            DZA             12.0  Africa   \n",
       "...          ...   ...            ...              ...     ...   \n",
       "252911  Zimbabwe  2016            ZWE            716.0  Africa   \n",
       "252912  Zimbabwe  2017            ZWE            716.0  Africa   \n",
       "252913  Zimbabwe  2018            ZWE            716.0  Africa   \n",
       "252914  Zimbabwe  2019            ZWE            716.0  Africa   \n",
       "252915  Zimbabwe  2020            ZWE            716.0  Africa   \n",
       "\n",
       "              SubRegion  OPEC   EU  OECD  CIS       Var      Value  \n",
       "0       Northern Africa   1.0  0.0   0.0  0.0  wind_twh   0.000000  \n",
       "1       Northern Africa   1.0  0.0   0.0  0.0  wind_twh   0.000000  \n",
       "2       Northern Africa   1.0  0.0   0.0  0.0  wind_twh   0.000000  \n",
       "3       Northern Africa   1.0  0.0   0.0  0.0  wind_twh   0.000000  \n",
       "4       Northern Africa   1.0  0.0   0.0  0.0  wind_twh   0.000000  \n",
       "...                 ...   ...  ...   ...  ...       ...        ...  \n",
       "252911   Eastern Africa   0.0  0.0   0.0  0.0       pop  14.030338  \n",
       "252912   Eastern Africa   0.0  0.0   0.0  0.0       pop  14.236599  \n",
       "252913   Eastern Africa   0.0  0.0   0.0  0.0       pop  14.438812  \n",
       "252914   Eastern Africa   0.0  0.0   0.0  0.0       pop  14.645473  \n",
       "252915   Eastern Africa   0.0  0.0   0.0  0.0       pop  14.862927  \n",
       "\n",
       "[252916 rows x 12 columns]>"
      ]
     },
     "execution_count": 4,
     "metadata": {},
     "output_type": "execute_result"
    }
   ],
   "source": [
    "df.info"
   ]
  },
  {
   "cell_type": "code",
   "execution_count": 4,
   "id": "c630015e",
   "metadata": {
    "ExecuteTime": {
     "end_time": "2021-11-22T18:44:19.300034Z",
     "start_time": "2021-11-22T18:44:18.968560Z"
    }
   },
   "outputs": [
    {
     "data": {
      "text/html": [
       "<div>\n",
       "<style scoped>\n",
       "    .dataframe tbody tr th:only-of-type {\n",
       "        vertical-align: middle;\n",
       "    }\n",
       "\n",
       "    .dataframe tbody tr th {\n",
       "        vertical-align: top;\n",
       "    }\n",
       "\n",
       "    .dataframe thead th {\n",
       "        text-align: right;\n",
       "    }\n",
       "</style>\n",
       "<table border=\"1\" class=\"dataframe\">\n",
       "  <thead>\n",
       "    <tr style=\"text-align: right;\">\n",
       "      <th></th>\n",
       "      <th>Country</th>\n",
       "      <th>Year</th>\n",
       "      <th>ISO3166_alpha3</th>\n",
       "      <th>ISO3166_numeric</th>\n",
       "      <th>Region</th>\n",
       "      <th>SubRegion</th>\n",
       "      <th>OPEC</th>\n",
       "      <th>EU</th>\n",
       "      <th>OECD</th>\n",
       "      <th>CIS</th>\n",
       "      <th>Var</th>\n",
       "      <th>Value</th>\n",
       "    </tr>\n",
       "  </thead>\n",
       "  <tbody>\n",
       "    <tr>\n",
       "      <th>0</th>\n",
       "      <td>Algeria</td>\n",
       "      <td>1965</td>\n",
       "      <td>DZA</td>\n",
       "      <td>12.0</td>\n",
       "      <td>Africa</td>\n",
       "      <td>Northern Africa</td>\n",
       "      <td>1.0</td>\n",
       "      <td>0.0</td>\n",
       "      <td>0.0</td>\n",
       "      <td>0.0</td>\n",
       "      <td>wind_twh</td>\n",
       "      <td>0.000000</td>\n",
       "    </tr>\n",
       "    <tr>\n",
       "      <th>1</th>\n",
       "      <td>Algeria</td>\n",
       "      <td>1966</td>\n",
       "      <td>DZA</td>\n",
       "      <td>12.0</td>\n",
       "      <td>Africa</td>\n",
       "      <td>Northern Africa</td>\n",
       "      <td>1.0</td>\n",
       "      <td>0.0</td>\n",
       "      <td>0.0</td>\n",
       "      <td>0.0</td>\n",
       "      <td>wind_twh</td>\n",
       "      <td>0.000000</td>\n",
       "    </tr>\n",
       "    <tr>\n",
       "      <th>2</th>\n",
       "      <td>Algeria</td>\n",
       "      <td>1967</td>\n",
       "      <td>DZA</td>\n",
       "      <td>12.0</td>\n",
       "      <td>Africa</td>\n",
       "      <td>Northern Africa</td>\n",
       "      <td>1.0</td>\n",
       "      <td>0.0</td>\n",
       "      <td>0.0</td>\n",
       "      <td>0.0</td>\n",
       "      <td>wind_twh</td>\n",
       "      <td>0.000000</td>\n",
       "    </tr>\n",
       "    <tr>\n",
       "      <th>3</th>\n",
       "      <td>Algeria</td>\n",
       "      <td>1968</td>\n",
       "      <td>DZA</td>\n",
       "      <td>12.0</td>\n",
       "      <td>Africa</td>\n",
       "      <td>Northern Africa</td>\n",
       "      <td>1.0</td>\n",
       "      <td>0.0</td>\n",
       "      <td>0.0</td>\n",
       "      <td>0.0</td>\n",
       "      <td>wind_twh</td>\n",
       "      <td>0.000000</td>\n",
       "    </tr>\n",
       "    <tr>\n",
       "      <th>4</th>\n",
       "      <td>Algeria</td>\n",
       "      <td>1969</td>\n",
       "      <td>DZA</td>\n",
       "      <td>12.0</td>\n",
       "      <td>Africa</td>\n",
       "      <td>Northern Africa</td>\n",
       "      <td>1.0</td>\n",
       "      <td>0.0</td>\n",
       "      <td>0.0</td>\n",
       "      <td>0.0</td>\n",
       "      <td>wind_twh</td>\n",
       "      <td>0.000000</td>\n",
       "    </tr>\n",
       "    <tr>\n",
       "      <th>...</th>\n",
       "      <td>...</td>\n",
       "      <td>...</td>\n",
       "      <td>...</td>\n",
       "      <td>...</td>\n",
       "      <td>...</td>\n",
       "      <td>...</td>\n",
       "      <td>...</td>\n",
       "      <td>...</td>\n",
       "      <td>...</td>\n",
       "      <td>...</td>\n",
       "      <td>...</td>\n",
       "      <td>...</td>\n",
       "    </tr>\n",
       "    <tr>\n",
       "      <th>252911</th>\n",
       "      <td>Zimbabwe</td>\n",
       "      <td>2016</td>\n",
       "      <td>ZWE</td>\n",
       "      <td>716.0</td>\n",
       "      <td>Africa</td>\n",
       "      <td>Eastern Africa</td>\n",
       "      <td>0.0</td>\n",
       "      <td>0.0</td>\n",
       "      <td>0.0</td>\n",
       "      <td>0.0</td>\n",
       "      <td>pop</td>\n",
       "      <td>14.030338</td>\n",
       "    </tr>\n",
       "    <tr>\n",
       "      <th>252912</th>\n",
       "      <td>Zimbabwe</td>\n",
       "      <td>2017</td>\n",
       "      <td>ZWE</td>\n",
       "      <td>716.0</td>\n",
       "      <td>Africa</td>\n",
       "      <td>Eastern Africa</td>\n",
       "      <td>0.0</td>\n",
       "      <td>0.0</td>\n",
       "      <td>0.0</td>\n",
       "      <td>0.0</td>\n",
       "      <td>pop</td>\n",
       "      <td>14.236599</td>\n",
       "    </tr>\n",
       "    <tr>\n",
       "      <th>252913</th>\n",
       "      <td>Zimbabwe</td>\n",
       "      <td>2018</td>\n",
       "      <td>ZWE</td>\n",
       "      <td>716.0</td>\n",
       "      <td>Africa</td>\n",
       "      <td>Eastern Africa</td>\n",
       "      <td>0.0</td>\n",
       "      <td>0.0</td>\n",
       "      <td>0.0</td>\n",
       "      <td>0.0</td>\n",
       "      <td>pop</td>\n",
       "      <td>14.438812</td>\n",
       "    </tr>\n",
       "    <tr>\n",
       "      <th>252914</th>\n",
       "      <td>Zimbabwe</td>\n",
       "      <td>2019</td>\n",
       "      <td>ZWE</td>\n",
       "      <td>716.0</td>\n",
       "      <td>Africa</td>\n",
       "      <td>Eastern Africa</td>\n",
       "      <td>0.0</td>\n",
       "      <td>0.0</td>\n",
       "      <td>0.0</td>\n",
       "      <td>0.0</td>\n",
       "      <td>pop</td>\n",
       "      <td>14.645473</td>\n",
       "    </tr>\n",
       "    <tr>\n",
       "      <th>252915</th>\n",
       "      <td>Zimbabwe</td>\n",
       "      <td>2020</td>\n",
       "      <td>ZWE</td>\n",
       "      <td>716.0</td>\n",
       "      <td>Africa</td>\n",
       "      <td>Eastern Africa</td>\n",
       "      <td>0.0</td>\n",
       "      <td>0.0</td>\n",
       "      <td>0.0</td>\n",
       "      <td>0.0</td>\n",
       "      <td>pop</td>\n",
       "      <td>14.862927</td>\n",
       "    </tr>\n",
       "  </tbody>\n",
       "</table>\n",
       "<p>204843 rows × 12 columns</p>\n",
       "</div>"
      ],
      "text/plain": [
       "         Country  Year ISO3166_alpha3  ISO3166_numeric  Region  \\\n",
       "0        Algeria  1965            DZA             12.0  Africa   \n",
       "1        Algeria  1966            DZA             12.0  Africa   \n",
       "2        Algeria  1967            DZA             12.0  Africa   \n",
       "3        Algeria  1968            DZA             12.0  Africa   \n",
       "4        Algeria  1969            DZA             12.0  Africa   \n",
       "...          ...   ...            ...              ...     ...   \n",
       "252911  Zimbabwe  2016            ZWE            716.0  Africa   \n",
       "252912  Zimbabwe  2017            ZWE            716.0  Africa   \n",
       "252913  Zimbabwe  2018            ZWE            716.0  Africa   \n",
       "252914  Zimbabwe  2019            ZWE            716.0  Africa   \n",
       "252915  Zimbabwe  2020            ZWE            716.0  Africa   \n",
       "\n",
       "              SubRegion  OPEC   EU  OECD  CIS       Var      Value  \n",
       "0       Northern Africa   1.0  0.0   0.0  0.0  wind_twh   0.000000  \n",
       "1       Northern Africa   1.0  0.0   0.0  0.0  wind_twh   0.000000  \n",
       "2       Northern Africa   1.0  0.0   0.0  0.0  wind_twh   0.000000  \n",
       "3       Northern Africa   1.0  0.0   0.0  0.0  wind_twh   0.000000  \n",
       "4       Northern Africa   1.0  0.0   0.0  0.0  wind_twh   0.000000  \n",
       "...                 ...   ...  ...   ...  ...       ...        ...  \n",
       "252911   Eastern Africa   0.0  0.0   0.0  0.0       pop  14.030338  \n",
       "252912   Eastern Africa   0.0  0.0   0.0  0.0       pop  14.236599  \n",
       "252913   Eastern Africa   0.0  0.0   0.0  0.0       pop  14.438812  \n",
       "252914   Eastern Africa   0.0  0.0   0.0  0.0       pop  14.645473  \n",
       "252915   Eastern Africa   0.0  0.0   0.0  0.0       pop  14.862927  \n",
       "\n",
       "[204843 rows x 12 columns]"
      ]
     },
     "execution_count": 4,
     "metadata": {},
     "output_type": "execute_result"
    }
   ],
   "source": [
    "df.dropna()\n"
   ]
  },
  {
   "cell_type": "code",
   "execution_count": 5,
   "id": "c2c27109",
   "metadata": {
    "ExecuteTime": {
     "end_time": "2021-11-22T18:44:36.154232Z",
     "start_time": "2021-11-22T18:44:36.151583Z"
    }
   },
   "outputs": [],
   "source": [
    "df.reset_index(drop=True, inplace=True)"
   ]
  },
  {
   "cell_type": "code",
   "execution_count": 13,
   "id": "ee09389f",
   "metadata": {
    "ExecuteTime": {
     "end_time": "2021-11-21T11:56:29.564517Z",
     "start_time": "2021-11-21T11:56:29.547569Z"
    }
   },
   "outputs": [
    {
     "data": {
      "text/html": [
       "<div>\n",
       "<style scoped>\n",
       "    .dataframe tbody tr th:only-of-type {\n",
       "        vertical-align: middle;\n",
       "    }\n",
       "\n",
       "    .dataframe tbody tr th {\n",
       "        vertical-align: top;\n",
       "    }\n",
       "\n",
       "    .dataframe thead th {\n",
       "        text-align: right;\n",
       "    }\n",
       "</style>\n",
       "<table border=\"1\" class=\"dataframe\">\n",
       "  <thead>\n",
       "    <tr style=\"text-align: right;\">\n",
       "      <th></th>\n",
       "      <th>Country</th>\n",
       "      <th>Year</th>\n",
       "      <th>ISO3166_alpha3</th>\n",
       "      <th>ISO3166_numeric</th>\n",
       "      <th>Region</th>\n",
       "      <th>SubRegion</th>\n",
       "      <th>OPEC</th>\n",
       "      <th>EU</th>\n",
       "      <th>OECD</th>\n",
       "      <th>CIS</th>\n",
       "      <th>Var</th>\n",
       "      <th>Value</th>\n",
       "    </tr>\n",
       "  </thead>\n",
       "  <tbody>\n",
       "    <tr>\n",
       "      <th>252911</th>\n",
       "      <td>Zimbabwe</td>\n",
       "      <td>2016</td>\n",
       "      <td>ZWE</td>\n",
       "      <td>716.0</td>\n",
       "      <td>Africa</td>\n",
       "      <td>Eastern Africa</td>\n",
       "      <td>0.0</td>\n",
       "      <td>0.0</td>\n",
       "      <td>0.0</td>\n",
       "      <td>0.0</td>\n",
       "      <td>pop</td>\n",
       "      <td>14.030338</td>\n",
       "    </tr>\n",
       "    <tr>\n",
       "      <th>252912</th>\n",
       "      <td>Zimbabwe</td>\n",
       "      <td>2017</td>\n",
       "      <td>ZWE</td>\n",
       "      <td>716.0</td>\n",
       "      <td>Africa</td>\n",
       "      <td>Eastern Africa</td>\n",
       "      <td>0.0</td>\n",
       "      <td>0.0</td>\n",
       "      <td>0.0</td>\n",
       "      <td>0.0</td>\n",
       "      <td>pop</td>\n",
       "      <td>14.236599</td>\n",
       "    </tr>\n",
       "    <tr>\n",
       "      <th>252913</th>\n",
       "      <td>Zimbabwe</td>\n",
       "      <td>2018</td>\n",
       "      <td>ZWE</td>\n",
       "      <td>716.0</td>\n",
       "      <td>Africa</td>\n",
       "      <td>Eastern Africa</td>\n",
       "      <td>0.0</td>\n",
       "      <td>0.0</td>\n",
       "      <td>0.0</td>\n",
       "      <td>0.0</td>\n",
       "      <td>pop</td>\n",
       "      <td>14.438812</td>\n",
       "    </tr>\n",
       "    <tr>\n",
       "      <th>252914</th>\n",
       "      <td>Zimbabwe</td>\n",
       "      <td>2019</td>\n",
       "      <td>ZWE</td>\n",
       "      <td>716.0</td>\n",
       "      <td>Africa</td>\n",
       "      <td>Eastern Africa</td>\n",
       "      <td>0.0</td>\n",
       "      <td>0.0</td>\n",
       "      <td>0.0</td>\n",
       "      <td>0.0</td>\n",
       "      <td>pop</td>\n",
       "      <td>14.645473</td>\n",
       "    </tr>\n",
       "    <tr>\n",
       "      <th>252915</th>\n",
       "      <td>Zimbabwe</td>\n",
       "      <td>2020</td>\n",
       "      <td>ZWE</td>\n",
       "      <td>716.0</td>\n",
       "      <td>Africa</td>\n",
       "      <td>Eastern Africa</td>\n",
       "      <td>0.0</td>\n",
       "      <td>0.0</td>\n",
       "      <td>0.0</td>\n",
       "      <td>0.0</td>\n",
       "      <td>pop</td>\n",
       "      <td>14.862927</td>\n",
       "    </tr>\n",
       "  </tbody>\n",
       "</table>\n",
       "</div>"
      ],
      "text/plain": [
       "         Country  Year ISO3166_alpha3  ISO3166_numeric  Region  \\\n",
       "252911  Zimbabwe  2016            ZWE            716.0  Africa   \n",
       "252912  Zimbabwe  2017            ZWE            716.0  Africa   \n",
       "252913  Zimbabwe  2018            ZWE            716.0  Africa   \n",
       "252914  Zimbabwe  2019            ZWE            716.0  Africa   \n",
       "252915  Zimbabwe  2020            ZWE            716.0  Africa   \n",
       "\n",
       "             SubRegion  OPEC   EU  OECD  CIS  Var      Value  \n",
       "252911  Eastern Africa   0.0  0.0   0.0  0.0  pop  14.030338  \n",
       "252912  Eastern Africa   0.0  0.0   0.0  0.0  pop  14.236599  \n",
       "252913  Eastern Africa   0.0  0.0   0.0  0.0  pop  14.438812  \n",
       "252914  Eastern Africa   0.0  0.0   0.0  0.0  pop  14.645473  \n",
       "252915  Eastern Africa   0.0  0.0   0.0  0.0  pop  14.862927  "
      ]
     },
     "execution_count": 13,
     "metadata": {},
     "output_type": "execute_result"
    }
   ],
   "source": [
    "df.tail()"
   ]
  },
  {
   "cell_type": "code",
   "execution_count": 11,
   "id": "e2ed296a",
   "metadata": {
    "ExecuteTime": {
     "end_time": "2021-11-21T11:55:51.147099Z",
     "start_time": "2021-11-21T11:55:50.971689Z"
    }
   },
   "outputs": [
    {
     "name": "stdout",
     "output_type": "stream",
     "text": [
      "<class 'pandas.core.frame.DataFrame'>\n",
      "RangeIndex: 252916 entries, 0 to 252915\n",
      "Data columns (total 12 columns):\n",
      " #   Column           Non-Null Count   Dtype  \n",
      "---  ------           --------------   -----  \n",
      " 0   Country          252916 non-null  object \n",
      " 1   Year             252916 non-null  int64  \n",
      " 2   ISO3166_alpha3   204843 non-null  object \n",
      " 3   ISO3166_numeric  204843 non-null  float64\n",
      " 4   Region           204843 non-null  object \n",
      " 5   SubRegion        204843 non-null  object \n",
      " 6   OPEC             204843 non-null  float64\n",
      " 7   EU               204843 non-null  float64\n",
      " 8   OECD             204843 non-null  float64\n",
      " 9   CIS              204843 non-null  float64\n",
      " 10  Var              252916 non-null  object \n",
      " 11  Value            252916 non-null  float64\n",
      "dtypes: float64(6), int64(1), object(5)\n",
      "memory usage: 23.2+ MB\n"
     ]
    }
   ],
   "source": [
    "df.info()"
   ]
  },
  {
   "cell_type": "code",
   "execution_count": 193,
   "id": "0bc84618",
   "metadata": {
    "ExecuteTime": {
     "end_time": "2021-11-25T06:40:42.208800Z",
     "start_time": "2021-11-25T06:40:42.076781Z"
    }
   },
   "outputs": [
    {
     "data": {
      "text/plain": [
       "252916"
      ]
     },
     "execution_count": 193,
     "metadata": {},
     "output_type": "execute_result"
    }
   ],
   "source": [
    "df['Country'].value_counts()"
   ]
  },
  {
   "cell_type": "code",
   "execution_count": 24,
   "id": "f1fa675e",
   "metadata": {
    "ExecuteTime": {
     "end_time": "2021-11-21T19:49:01.957482Z",
     "start_time": "2021-11-21T19:49:01.885735Z"
    }
   },
   "outputs": [
    {
     "name": "stdout",
     "output_type": "stream",
     "text": [
      "<class 'pandas.core.frame.DataFrame'>\n",
      "RangeIndex: 252916 entries, 0 to 252915\n",
      "Data columns (total 17 columns):\n",
      " #   Column            Non-Null Count   Dtype  \n",
      "---  ------            --------------   -----  \n",
      " 0   Country           252916 non-null  object \n",
      " 1   Year              252916 non-null  int64  \n",
      " 2   ISO3166_alpha3    204843 non-null  object \n",
      " 3   ISO3166_numeric   204843 non-null  float64\n",
      " 4   Region            204843 non-null  object \n",
      " 5   SubRegion         204843 non-null  object \n",
      " 6   OPEC              204843 non-null  float64\n",
      " 7   EU                204843 non-null  float64\n",
      " 8   OECD              204843 non-null  float64\n",
      " 9   CIS               204843 non-null  float64\n",
      " 10  Var               252916 non-null  object \n",
      " 11  Value             252916 non-null  float64\n",
      " 12  Country_n         252916 non-null  int64  \n",
      " 13  ISO3166_alpha3_n  252916 non-null  int64  \n",
      " 14  Region_n          252916 non-null  int64  \n",
      " 15  SubRegion_n       252916 non-null  int64  \n",
      " 16  Var_n             252916 non-null  int64  \n",
      "dtypes: float64(6), int64(6), object(5)\n",
      "memory usage: 32.8+ MB\n"
     ]
    }
   ],
   "source": [
    "df.info()"
   ]
  },
  {
   "cell_type": "code",
   "execution_count": 27,
   "id": "efaea624",
   "metadata": {
    "ExecuteTime": {
     "end_time": "2021-11-21T19:53:03.722559Z",
     "start_time": "2021-11-21T19:53:03.707144Z"
    }
   },
   "outputs": [
    {
     "data": {
      "text/html": [
       "<div>\n",
       "<style scoped>\n",
       "    .dataframe tbody tr th:only-of-type {\n",
       "        vertical-align: middle;\n",
       "    }\n",
       "\n",
       "    .dataframe tbody tr th {\n",
       "        vertical-align: top;\n",
       "    }\n",
       "\n",
       "    .dataframe thead th {\n",
       "        text-align: right;\n",
       "    }\n",
       "</style>\n",
       "<table border=\"1\" class=\"dataframe\">\n",
       "  <thead>\n",
       "    <tr style=\"text-align: right;\">\n",
       "      <th></th>\n",
       "      <th>Year</th>\n",
       "      <th>ISO3166_numeric</th>\n",
       "      <th>OPEC</th>\n",
       "      <th>EU</th>\n",
       "      <th>OECD</th>\n",
       "      <th>CIS</th>\n",
       "      <th>Value</th>\n",
       "      <th>Country_n</th>\n",
       "      <th>ISO3166_alpha3_n</th>\n",
       "      <th>Region_n</th>\n",
       "      <th>SubRegion_n</th>\n",
       "      <th>Var_n</th>\n",
       "    </tr>\n",
       "  </thead>\n",
       "  <tbody>\n",
       "    <tr>\n",
       "      <th>0</th>\n",
       "      <td>1965</td>\n",
       "      <td>12.0</td>\n",
       "      <td>1.0</td>\n",
       "      <td>0.0</td>\n",
       "      <td>0.0</td>\n",
       "      <td>0.0</td>\n",
       "      <td>0.0</td>\n",
       "      <td>0</td>\n",
       "      <td>27</td>\n",
       "      <td>0</td>\n",
       "      <td>8</td>\n",
       "      <td>84</td>\n",
       "    </tr>\n",
       "    <tr>\n",
       "      <th>1</th>\n",
       "      <td>1966</td>\n",
       "      <td>12.0</td>\n",
       "      <td>1.0</td>\n",
       "      <td>0.0</td>\n",
       "      <td>0.0</td>\n",
       "      <td>0.0</td>\n",
       "      <td>0.0</td>\n",
       "      <td>0</td>\n",
       "      <td>27</td>\n",
       "      <td>0</td>\n",
       "      <td>8</td>\n",
       "      <td>84</td>\n",
       "    </tr>\n",
       "    <tr>\n",
       "      <th>2</th>\n",
       "      <td>1967</td>\n",
       "      <td>12.0</td>\n",
       "      <td>1.0</td>\n",
       "      <td>0.0</td>\n",
       "      <td>0.0</td>\n",
       "      <td>0.0</td>\n",
       "      <td>0.0</td>\n",
       "      <td>0</td>\n",
       "      <td>27</td>\n",
       "      <td>0</td>\n",
       "      <td>8</td>\n",
       "      <td>84</td>\n",
       "    </tr>\n",
       "    <tr>\n",
       "      <th>3</th>\n",
       "      <td>1968</td>\n",
       "      <td>12.0</td>\n",
       "      <td>1.0</td>\n",
       "      <td>0.0</td>\n",
       "      <td>0.0</td>\n",
       "      <td>0.0</td>\n",
       "      <td>0.0</td>\n",
       "      <td>0</td>\n",
       "      <td>27</td>\n",
       "      <td>0</td>\n",
       "      <td>8</td>\n",
       "      <td>84</td>\n",
       "    </tr>\n",
       "    <tr>\n",
       "      <th>4</th>\n",
       "      <td>1969</td>\n",
       "      <td>12.0</td>\n",
       "      <td>1.0</td>\n",
       "      <td>0.0</td>\n",
       "      <td>0.0</td>\n",
       "      <td>0.0</td>\n",
       "      <td>0.0</td>\n",
       "      <td>0</td>\n",
       "      <td>27</td>\n",
       "      <td>0</td>\n",
       "      <td>8</td>\n",
       "      <td>84</td>\n",
       "    </tr>\n",
       "  </tbody>\n",
       "</table>\n",
       "</div>"
      ],
      "text/plain": [
       "   Year  ISO3166_numeric  OPEC   EU  OECD  CIS  Value  Country_n  \\\n",
       "0  1965             12.0   1.0  0.0   0.0  0.0    0.0          0   \n",
       "1  1966             12.0   1.0  0.0   0.0  0.0    0.0          0   \n",
       "2  1967             12.0   1.0  0.0   0.0  0.0    0.0          0   \n",
       "3  1968             12.0   1.0  0.0   0.0  0.0    0.0          0   \n",
       "4  1969             12.0   1.0  0.0   0.0  0.0    0.0          0   \n",
       "\n",
       "   ISO3166_alpha3_n  Region_n  SubRegion_n  Var_n  \n",
       "0                27         0            8     84  \n",
       "1                27         0            8     84  \n",
       "2                27         0            8     84  \n",
       "3                27         0            8     84  \n",
       "4                27         0            8     84  "
      ]
     },
     "execution_count": 27,
     "metadata": {},
     "output_type": "execute_result"
    }
   ],
   "source": [
    "df.head()"
   ]
  },
  {
   "cell_type": "code",
   "execution_count": 6,
   "id": "a737a4aa",
   "metadata": {
    "ExecuteTime": {
     "end_time": "2021-11-22T18:45:19.945192Z",
     "start_time": "2021-11-22T18:45:19.913198Z"
    }
   },
   "outputs": [],
   "source": [
    "df2=df.groupby(df['Year']).sum()"
   ]
  },
  {
   "cell_type": "code",
   "execution_count": 195,
   "id": "8596ba51",
   "metadata": {
    "ExecuteTime": {
     "end_time": "2021-11-25T08:41:55.222144Z",
     "start_time": "2021-11-25T08:41:55.096223Z"
    }
   },
   "outputs": [
    {
     "data": {
      "text/plain": [
       "Europe                76406\n",
       "Asia Pacific          46623\n",
       "S. & Cent. America    23400\n",
       "Middle East           22849\n",
       "Africa                13328\n",
       "CIS                   12089\n",
       "North America         10148\n",
       "Name: Region, dtype: int64"
      ]
     },
     "execution_count": 195,
     "metadata": {},
     "output_type": "execute_result"
    }
   ],
   "source": [
    "df['Region'].value_counts()\n"
   ]
  },
  {
   "cell_type": "code",
   "execution_count": 192,
   "id": "c3a1f0c9",
   "metadata": {
    "ExecuteTime": {
     "end_time": "2021-11-22T22:49:59.910010Z",
     "start_time": "2021-11-22T22:49:59.733634Z"
    }
   },
   "outputs": [
    {
     "data": {
      "text/plain": [
       "<AxesSubplot:>"
      ]
     },
     "execution_count": 192,
     "metadata": {},
     "output_type": "execute_result"
    },
    {
     "data": {
      "image/png": "[encoded data removed]",
      "text/plain": [
       "<Figure size 864x432 with 1 Axes>"
      ]
     },
     "metadata": {
      "needs_background": "light"
     },
     "output_type": "display_data"
    }
   ],
   "source": [
    "df['Region'].value_counts().plot(figsize=(12,6))"
   ]
  },
  {
   "cell_type": "code",
   "execution_count": 191,
   "id": "223b12ef",
   "metadata": {
    "ExecuteTime": {
     "end_time": "2021-11-22T22:48:38.740563Z",
     "start_time": "2021-11-22T22:48:38.708267Z"
    }
   },
   "outputs": [
    {
     "data": {
      "text/plain": [
       "Total World                     3777\n",
       "Brazil                          3746\n",
       "US                              3716\n",
       "Total Europe                    3673\n",
       "Total Middle East               3673\n",
       "                                ... \n",
       "Cuba                              52\n",
       "New Caledonia                     52\n",
       "Zambia                            52\n",
       "Mozambique                        35\n",
       "Democratic Republic of Congo      26\n",
       "Name: Country, Length: 123, dtype: int64"
      ]
     },
     "execution_count": 191,
     "metadata": {},
     "output_type": "execute_result"
    }
   ],
   "source": [
    "df['Country'].value_counts()"
   ]
  },
  {
   "cell_type": "code",
   "execution_count": 196,
   "id": "ce97ab5c",
   "metadata": {
    "ExecuteTime": {
     "end_time": "2021-11-25T08:42:35.314044Z",
     "start_time": "2021-11-25T08:42:35.305962Z"
    }
   },
   "outputs": [
    {
     "data": {
      "text/plain": [
       "2020    5207\n",
       "2019    5207\n",
       "2018    5207\n",
       "2017    5206\n",
       "2016    5205\n",
       "2015    5205\n",
       "2014    5205\n",
       "2013    5205\n",
       "2012    5204\n",
       "2009    5201\n",
       "2010    5200\n",
       "2008    5200\n",
       "2011    5199\n",
       "2007    5198\n",
       "2006    5193\n",
       "2005    5192\n",
       "2004    5192\n",
       "2003    5190\n",
       "2002    5186\n",
       "2001    5186\n",
       "2000    5184\n",
       "1999    5085\n",
       "1997    5083\n",
       "1998    5082\n",
       "1995    5081\n",
       "1996    5079\n",
       "1994    5035\n",
       "1993    5035\n",
       "1992    5033\n",
       "1991    5031\n",
       "1990    5025\n",
       "1989    4452\n",
       "1988    4452\n",
       "1987    4452\n",
       "1986    4450\n",
       "1985    4448\n",
       "1981    3864\n",
       "1984    3864\n",
       "1983    3864\n",
       "1982    3864\n",
       "1980    3736\n",
       "1972    3541\n",
       "1975    3541\n",
       "1973    3541\n",
       "1974    3541\n",
       "1979    3541\n",
       "1976    3541\n",
       "1977    3541\n",
       "1978    3541\n",
       "1971    3539\n",
       "1970    3494\n",
       "1969    3276\n",
       "1968    3276\n",
       "1967    3274\n",
       "1966    3272\n",
       "1965    3270\n",
       "Name: Year, dtype: int64"
      ]
     },
     "execution_count": 196,
     "metadata": {},
     "output_type": "execute_result"
    }
   ],
   "source": [
    "df['Year'].value_counts()"
   ]
  },
  {
   "cell_type": "code",
   "execution_count": 190,
   "id": "5c4b2bf6",
   "metadata": {
    "ExecuteTime": {
     "end_time": "2021-11-22T22:47:30.567415Z",
     "start_time": "2021-11-22T22:47:30.405752Z"
    }
   },
   "outputs": [
    {
     "data": {
      "text/plain": [
       "<AxesSubplot:>"
      ]
     },
     "execution_count": 190,
     "metadata": {},
     "output_type": "execute_result"
    },
    {
     "data": {
      "image/png": "[encoded data removed]",
      "text/plain": [
       "<Figure size 864x432 with 1 Axes>"
      ]
     },
     "metadata": {
      "needs_background": "light"
     },
     "output_type": "display_data"
    }
   ],
   "source": [
    "df['Year'].value_counts().plot(figsize=(12,6))"
   ]
  },
  {
   "cell_type": "code",
   "execution_count": 8,
   "id": "f6d9fa82",
   "metadata": {
    "ExecuteTime": {
     "end_time": "2021-11-22T18:45:35.558413Z",
     "start_time": "2021-11-22T18:45:35.431810Z"
    }
   },
   "outputs": [
    {
     "data": {
      "text/plain": [
       "[         Country  Year ISO3166_alpha3  ISO3166_numeric  Region  \\\n",
       " 0        Algeria  1965            DZA             12.0  Africa   \n",
       " 1        Algeria  1966            DZA             12.0  Africa   \n",
       " 2        Algeria  1967            DZA             12.0  Africa   \n",
       " 3        Algeria  1968            DZA             12.0  Africa   \n",
       " 4        Algeria  1969            DZA             12.0  Africa   \n",
       " ...          ...   ...            ...              ...     ...   \n",
       " 252911  Zimbabwe  2016            ZWE            716.0  Africa   \n",
       " 252912  Zimbabwe  2017            ZWE            716.0  Africa   \n",
       " 252913  Zimbabwe  2018            ZWE            716.0  Africa   \n",
       " 252914  Zimbabwe  2019            ZWE            716.0  Africa   \n",
       " 252915  Zimbabwe  2020            ZWE            716.0  Africa   \n",
       " \n",
       "               SubRegion  OPEC   EU  OECD  CIS       Var      Value  \n",
       " 0       Northern Africa   1.0  0.0   0.0  0.0  wind_twh   0.000000  \n",
       " 1       Northern Africa   1.0  0.0   0.0  0.0  wind_twh   0.000000  \n",
       " 2       Northern Africa   1.0  0.0   0.0  0.0  wind_twh   0.000000  \n",
       " 3       Northern Africa   1.0  0.0   0.0  0.0  wind_twh   0.000000  \n",
       " 4       Northern Africa   1.0  0.0   0.0  0.0  wind_twh   0.000000  \n",
       " ...                 ...   ...  ...   ...  ...       ...        ...  \n",
       " 252911   Eastern Africa   0.0  0.0   0.0  0.0       pop  14.030338  \n",
       " 252912   Eastern Africa   0.0  0.0   0.0  0.0       pop  14.236599  \n",
       " 252913   Eastern Africa   0.0  0.0   0.0  0.0       pop  14.438812  \n",
       " 252914   Eastern Africa   0.0  0.0   0.0  0.0       pop  14.645473  \n",
       " 252915   Eastern Africa   0.0  0.0   0.0  0.0       pop  14.862927  \n",
       " \n",
       " [13328 rows x 12 columns],\n",
       "           Country  Year ISO3166_alpha3  ISO3166_numeric        Region  \\\n",
       " 112     Australia  1965            AUS             36.0  Asia Pacific   \n",
       " 113     Australia  1966            AUS             36.0  Asia Pacific   \n",
       " 114     Australia  1967            AUS             36.0  Asia Pacific   \n",
       " 115     Australia  1968            AUS             36.0  Asia Pacific   \n",
       " 116     Australia  1969            AUS             36.0  Asia Pacific   \n",
       " ...           ...   ...            ...              ...           ...   \n",
       " 252789    Vietnam  2016            VNM            704.0  Asia Pacific   \n",
       " 252790    Vietnam  2017            VNM            704.0  Asia Pacific   \n",
       " 252791    Vietnam  2018            VNM            704.0  Asia Pacific   \n",
       " 252792    Vietnam  2019            VNM            704.0  Asia Pacific   \n",
       " 252793    Vietnam  2020            VNM            704.0  Asia Pacific   \n",
       " \n",
       "            SubRegion  OPEC   EU  OECD  CIS       Var      Value  \n",
       " 112     Asia Pacific   0.0  0.0   1.0  0.0  wind_twh   0.000000  \n",
       " 113     Asia Pacific   0.0  0.0   1.0  0.0  wind_twh   0.000000  \n",
       " 114     Asia Pacific   0.0  0.0   1.0  0.0  wind_twh   0.000000  \n",
       " 115     Asia Pacific   0.0  0.0   1.0  0.0  wind_twh   0.000000  \n",
       " 116     Asia Pacific   0.0  0.0   1.0  0.0  wind_twh   0.000000  \n",
       " ...              ...   ...  ...   ...  ...       ...        ...  \n",
       " 252789  Asia Pacific   0.0  0.0   0.0  0.0       pop  93.640435  \n",
       " 252790  Asia Pacific   0.0  0.0   0.0  0.0       pop  94.600643  \n",
       " 252791  Asia Pacific   0.0  0.0   0.0  0.0       pop  95.545959  \n",
       " 252792  Asia Pacific   0.0  0.0   0.0  0.0       pop  96.462108  \n",
       " 252793  Asia Pacific   0.0  0.0   0.0  0.0       pop  97.338583  \n",
       " \n",
       " [46623 rows x 12 columns],\n",
       "            Country  Year ISO3166_alpha3  ISO3166_numeric Region SubRegion  \\\n",
       " 224     Azerbaijan  1985            AZE             31.0    CIS       CIS   \n",
       " 225     Azerbaijan  1986            AZE             31.0    CIS       CIS   \n",
       " 226     Azerbaijan  1987            AZE             31.0    CIS       CIS   \n",
       " 227     Azerbaijan  1988            AZE             31.0    CIS       CIS   \n",
       " 228     Azerbaijan  1989            AZE             31.0    CIS       CIS   \n",
       " ...            ...   ...            ...              ...    ...       ...   \n",
       " 252677  Uzbekistan  2016            UZB            860.0    CIS       CIS   \n",
       " 252678  Uzbekistan  2017            UZB            860.0    CIS       CIS   \n",
       " 252679  Uzbekistan  2018            UZB            860.0    CIS       CIS   \n",
       " 252680  Uzbekistan  2019            UZB            860.0    CIS       CIS   \n",
       " 252681  Uzbekistan  2020            UZB            860.0    CIS       CIS   \n",
       " \n",
       "         OPEC   EU  OECD  CIS       Var      Value  \n",
       " 224      0.0  0.0   0.0  1.0  wind_twh   0.000000  \n",
       " 225      0.0  0.0   0.0  1.0  wind_twh   0.000000  \n",
       " 226      0.0  0.0   0.0  1.0  wind_twh   0.000000  \n",
       " 227      0.0  0.0   0.0  1.0  wind_twh   0.000000  \n",
       " 228      0.0  0.0   0.0  1.0  wind_twh   0.000000  \n",
       " ...      ...  ...   ...  ...       ...        ...  \n",
       " 252677   0.0  0.0   0.0  1.0       pop  31.441753  \n",
       " 252678   0.0  0.0   0.0  1.0       pop  31.959774  \n",
       " 252679   0.0  0.0   0.0  1.0       pop  32.476232  \n",
       " 252680   0.0  0.0   0.0  1.0       pop  32.981715  \n",
       " 252681   0.0  0.0   0.0  1.0       pop  33.469199  \n",
       " \n",
       " [12089 rows x 12 columns],\n",
       "                Country  Year ISO3166_alpha3  ISO3166_numeric  Region  \\\n",
       " 168            Austria  1965            AUT             40.0  Europe   \n",
       " 169            Austria  1966            AUT             40.0  Europe   \n",
       " 170            Austria  1967            AUT             40.0  Europe   \n",
       " 171            Austria  1968            AUT             40.0  Europe   \n",
       " 172            Austria  1969            AUT             40.0  Europe   \n",
       " ...                ...   ...            ...              ...     ...   \n",
       " 252621  United Kingdom  2016            GBR            826.0  Europe   \n",
       " 252622  United Kingdom  2017            GBR            826.0  Europe   \n",
       " 252623  United Kingdom  2018            GBR            826.0  Europe   \n",
       " 252624  United Kingdom  2019            GBR            826.0  Europe   \n",
       " 252625  United Kingdom  2020            GBR            826.0  Europe   \n",
       " \n",
       "        SubRegion  OPEC   EU  OECD  CIS       Var      Value  \n",
       " 168       Europe   0.0  1.0   1.0  0.0  wind_twh   0.000000  \n",
       " 169       Europe   0.0  1.0   1.0  0.0  wind_twh   0.000000  \n",
       " 170       Europe   0.0  1.0   1.0  0.0  wind_twh   0.000000  \n",
       " 171       Europe   0.0  1.0   1.0  0.0  wind_twh   0.000000  \n",
       " 172       Europe   0.0  1.0   1.0  0.0  wind_twh   0.000000  \n",
       " ...          ...   ...  ...   ...  ...       ...        ...  \n",
       " 252621    Europe   0.0  0.0   1.0  0.0       pop  66.297944  \n",
       " 252622    Europe   0.0  0.0   1.0  0.0       pop  66.727463  \n",
       " 252623    Europe   0.0  0.0   1.0  0.0       pop  67.141678  \n",
       " 252624    Europe   0.0  0.0   1.0  0.0       pop  67.530161  \n",
       " 252625    Europe   0.0  0.0   1.0  0.0       pop  67.886004  \n",
       " \n",
       " [76406 rows x 12 columns],\n",
       "        Country  Year ISO3166_alpha3  ISO3166_numeric       Region  \\\n",
       " 1589      Iran  1965            IRN            364.0  Middle East   \n",
       " 1590      Iran  1966            IRN            364.0  Middle East   \n",
       " 1591      Iran  1967            IRN            364.0  Middle East   \n",
       " 1592      Iran  1968            IRN            364.0  Middle East   \n",
       " 1593      Iran  1969            IRN            364.0  Middle East   \n",
       " ...        ...   ...            ...              ...          ...   \n",
       " 252845   Yemen  2016            YEM            887.0  Middle East   \n",
       " 252846   Yemen  2017            YEM            887.0  Middle East   \n",
       " 252847   Yemen  2018            YEM            887.0  Middle East   \n",
       " 252848   Yemen  2019            YEM            887.0  Middle East   \n",
       " 252849   Yemen  2020            YEM            887.0  Middle East   \n",
       " \n",
       "           SubRegion  OPEC   EU  OECD  CIS       Var      Value  \n",
       " 1589    Middle East   1.0  0.0   0.0  0.0  wind_twh   0.000000  \n",
       " 1590    Middle East   1.0  0.0   0.0  0.0  wind_twh   0.000000  \n",
       " 1591    Middle East   1.0  0.0   0.0  0.0  wind_twh   0.000000  \n",
       " 1592    Middle East   1.0  0.0   0.0  0.0  wind_twh   0.000000  \n",
       " 1593    Middle East   1.0  0.0   0.0  0.0  wind_twh   0.000000  \n",
       " ...             ...   ...  ...   ...  ...       ...        ...  \n",
       " 252845  Middle East   0.0  0.0   0.0  0.0       pop  27.168210  \n",
       " 252846  Middle East   0.0  0.0   0.0  0.0       pop  27.834811  \n",
       " 252847  Middle East   0.0  0.0   0.0  0.0       pop  28.498683  \n",
       " 252848  Middle East   0.0  0.0   0.0  0.0       pop  29.161922  \n",
       " 252849  Middle East   0.0  0.0   0.0  0.0       pop  29.825968  \n",
       " \n",
       " [22849 rows x 12 columns],\n",
       "        Country  Year ISO3166_alpha3  ISO3166_numeric         Region  \\\n",
       " 514     Canada  1965            CAN            124.0  North America   \n",
       " 515     Canada  1966            CAN            124.0  North America   \n",
       " 516     Canada  1967            CAN            124.0  North America   \n",
       " 517     Canada  1968            CAN            124.0  North America   \n",
       " 518     Canada  1969            CAN            124.0  North America   \n",
       " ...        ...   ...            ...              ...            ...   \n",
       " 252397      US  2016            USA            840.0  North America   \n",
       " 252398      US  2017            USA            840.0  North America   \n",
       " 252399      US  2018            USA            840.0  North America   \n",
       " 252400      US  2019            USA            840.0  North America   \n",
       " 252401      US  2020            USA            840.0  North America   \n",
       " \n",
       "             SubRegion  OPEC   EU  OECD  CIS       Var       Value  \n",
       " 514     North America   0.0  0.0   1.0  0.0  wind_twh    0.000000  \n",
       " 515     North America   0.0  0.0   1.0  0.0  wind_twh    0.000000  \n",
       " 516     North America   0.0  0.0   1.0  0.0  wind_twh    0.000000  \n",
       " 517     North America   0.0  0.0   1.0  0.0  wind_twh    0.000000  \n",
       " 518     North America   0.0  0.0   1.0  0.0  wind_twh    0.000000  \n",
       " ...               ...   ...  ...   ...  ...       ...         ...  \n",
       " 252397  North America   0.0  0.0   1.0  0.0       pop  323.015992  \n",
       " 252398  North America   0.0  0.0   1.0  0.0       pop  325.084758  \n",
       " 252399  North America   0.0  0.0   1.0  0.0       pop  327.096263  \n",
       " 252400  North America   0.0  0.0   1.0  0.0       pop  329.064917  \n",
       " 252401  North America   0.0  0.0   1.0  0.0       pop  331.002647  \n",
       " \n",
       " [10148 rows x 12 columns],\n",
       "           Country  Year ISO3166_alpha3  ISO3166_numeric              Region  \\\n",
       " 56      Argentina  1965            ARG             32.0  S. & Cent. America   \n",
       " 57      Argentina  1966            ARG             32.0  S. & Cent. America   \n",
       " 58      Argentina  1967            ARG             32.0  S. & Cent. America   \n",
       " 59      Argentina  1968            ARG             32.0  S. & Cent. America   \n",
       " 60      Argentina  1969            ARG             32.0  S. & Cent. America   \n",
       " ...           ...   ...            ...              ...                 ...   \n",
       " 252733  Venezuela  2016            VEN            862.0  S. & Cent. America   \n",
       " 252734  Venezuela  2017            VEN            862.0  S. & Cent. America   \n",
       " 252735  Venezuela  2018            VEN            862.0  S. & Cent. America   \n",
       " 252736  Venezuela  2019            VEN            862.0  S. & Cent. America   \n",
       " 252737  Venezuela  2020            VEN            862.0  S. & Cent. America   \n",
       " \n",
       "             SubRegion  OPEC   EU  OECD  CIS       Var      Value  \n",
       " 56      South America   0.0  0.0   0.0  0.0  wind_twh   0.000000  \n",
       " 57      South America   0.0  0.0   0.0  0.0  wind_twh   0.000000  \n",
       " 58      South America   0.0  0.0   0.0  0.0  wind_twh   0.000000  \n",
       " 59      South America   0.0  0.0   0.0  0.0  wind_twh   0.000000  \n",
       " 60      South America   0.0  0.0   0.0  0.0  wind_twh   0.000000  \n",
       " ...               ...   ...  ...   ...  ...       ...        ...  \n",
       " 252733  South America   1.0  0.0   0.0  0.0       pop  29.851249  \n",
       " 252734  South America   1.0  0.0   0.0  0.0       pop  29.402480  \n",
       " 252735  South America   1.0  0.0   0.0  0.0       pop  28.887117  \n",
       " 252736  South America   1.0  0.0   0.0  0.0       pop  28.515829  \n",
       " 252737  South America   1.0  0.0   0.0  0.0       pop  28.435943  \n",
       " \n",
       " [23400 rows x 12 columns]]"
      ]
     },
     "execution_count": 8,
     "metadata": {},
     "output_type": "execute_result"
    }
   ],
   "source": [
    "gb = df.groupby('Region')    \n",
    "[gb.get_group(x) for x in gb.groups]"
   ]
  },
  {
   "cell_type": "code",
   "execution_count": null,
   "id": "e811e078",
   "metadata": {},
   "outputs": [],
   "source": []
  },
  {
   "cell_type": "code",
   "execution_count": null,
   "id": "60a2e86f",
   "metadata": {},
   "outputs": [],
   "source": []
  },
  {
   "cell_type": "code",
   "execution_count": 10,
   "id": "a84b550b",
   "metadata": {
    "ExecuteTime": {
     "end_time": "2021-11-22T18:45:58.120278Z",
     "start_time": "2021-11-22T18:45:58.107584Z"
    },
    "scrolled": true
   },
   "outputs": [
    {
     "data": {
      "text/html": [
       "<div>\n",
       "<style scoped>\n",
       "    .dataframe tbody tr th:only-of-type {\n",
       "        vertical-align: middle;\n",
       "    }\n",
       "\n",
       "    .dataframe tbody tr th {\n",
       "        vertical-align: top;\n",
       "    }\n",
       "\n",
       "    .dataframe thead th {\n",
       "        text-align: right;\n",
       "    }\n",
       "</style>\n",
       "<table border=\"1\" class=\"dataframe\">\n",
       "  <thead>\n",
       "    <tr style=\"text-align: right;\">\n",
       "      <th></th>\n",
       "      <th>ISO3166_numeric</th>\n",
       "      <th>OPEC</th>\n",
       "      <th>EU</th>\n",
       "      <th>OECD</th>\n",
       "      <th>CIS</th>\n",
       "      <th>Value</th>\n",
       "    </tr>\n",
       "    <tr>\n",
       "      <th>Year</th>\n",
       "      <th></th>\n",
       "      <th></th>\n",
       "      <th></th>\n",
       "      <th></th>\n",
       "      <th></th>\n",
       "      <th></th>\n",
       "    </tr>\n",
       "  </thead>\n",
       "  <tbody>\n",
       "    <tr>\n",
       "      <th>1965</th>\n",
       "      <td>1186112.0</td>\n",
       "      <td>304.0</td>\n",
       "      <td>826.0</td>\n",
       "      <td>1303.0</td>\n",
       "      <td>6.0</td>\n",
       "      <td>649661.589167</td>\n",
       "    </tr>\n",
       "    <tr>\n",
       "      <th>1966</th>\n",
       "      <td>1187688.0</td>\n",
       "      <td>304.0</td>\n",
       "      <td>826.0</td>\n",
       "      <td>1303.0</td>\n",
       "      <td>6.0</td>\n",
       "      <td>699689.282906</td>\n",
       "    </tr>\n",
       "    <tr>\n",
       "      <th>1967</th>\n",
       "      <td>1188712.0</td>\n",
       "      <td>304.0</td>\n",
       "      <td>826.0</td>\n",
       "      <td>1303.0</td>\n",
       "      <td>6.0</td>\n",
       "      <td>748366.461381</td>\n",
       "    </tr>\n",
       "    <tr>\n",
       "      <th>1968</th>\n",
       "      <td>1190232.0</td>\n",
       "      <td>304.0</td>\n",
       "      <td>826.0</td>\n",
       "      <td>1303.0</td>\n",
       "      <td>6.0</td>\n",
       "      <td>807415.423125</td>\n",
       "    </tr>\n",
       "    <tr>\n",
       "      <th>1969</th>\n",
       "      <td>1190232.0</td>\n",
       "      <td>304.0</td>\n",
       "      <td>826.0</td>\n",
       "      <td>1303.0</td>\n",
       "      <td>6.0</td>\n",
       "      <td>871515.185756</td>\n",
       "    </tr>\n",
       "  </tbody>\n",
       "</table>\n",
       "</div>"
      ],
      "text/plain": [
       "      ISO3166_numeric   OPEC     EU    OECD  CIS          Value\n",
       "Year                                                           \n",
       "1965        1186112.0  304.0  826.0  1303.0  6.0  649661.589167\n",
       "1966        1187688.0  304.0  826.0  1303.0  6.0  699689.282906\n",
       "1967        1188712.0  304.0  826.0  1303.0  6.0  748366.461381\n",
       "1968        1190232.0  304.0  826.0  1303.0  6.0  807415.423125\n",
       "1969        1190232.0  304.0  826.0  1303.0  6.0  871515.185756"
      ]
     },
     "execution_count": 10,
     "metadata": {},
     "output_type": "execute_result"
    }
   ],
   "source": [
    "df2.head()"
   ]
  },
  {
   "cell_type": "code",
   "execution_count": 207,
   "id": "815e8efa",
   "metadata": {
    "ExecuteTime": {
     "end_time": "2021-11-25T09:14:31.571404Z",
     "start_time": "2021-11-25T09:14:31.412736Z"
    },
    "scrolled": true
   },
   "outputs": [
    {
     "data": {
      "text/plain": [
       "<AxesSubplot:xlabel='Year'>"
      ]
     },
     "execution_count": 207,
     "metadata": {},
     "output_type": "execute_result"
    },
    {
     "data": {
      "image/png": "[encoded data removed]",
      "text/plain": [
       "<Figure size 720x360 with 1 Axes>"
      ]
     },
     "metadata": {
      "needs_background": "light"
     },
     "output_type": "display_data"
    }
   ],
   "source": [
    "df2['Value'].plot(figsize=(10,5))"
   ]
  },
  {
   "cell_type": "code",
   "execution_count": 66,
   "id": "e94e93b9",
   "metadata": {
    "ExecuteTime": {
     "end_time": "2021-11-22T12:18:38.774065Z",
     "start_time": "2021-11-22T12:18:30.973095Z"
    }
   },
   "outputs": [
    {
     "name": "stdout",
     "output_type": "stream",
     "text": [
      "Requirement already satisfied: pmdarima in /home/babu/anaconda3/lib/python3.8/site-packages (1.8.2)\n",
      "Requirement already satisfied: scikit-learn>=0.22 in /home/babu/anaconda3/lib/python3.8/site-packages (from pmdarima) (0.24.1)\n",
      "Requirement already satisfied: numpy~=1.19.0 in /home/babu/anaconda3/lib/python3.8/site-packages (from pmdarima) (1.19.5)\n",
      "Requirement already satisfied: joblib>=0.11 in /home/babu/anaconda3/lib/python3.8/site-packages (from pmdarima) (1.0.1)\n",
      "Requirement already satisfied: urllib3 in /home/babu/anaconda3/lib/python3.8/site-packages (from pmdarima) (1.26.4)\n",
      "Requirement already satisfied: pandas>=0.19 in /home/babu/anaconda3/lib/python3.8/site-packages (from pmdarima) (1.2.4)\n",
      "Requirement already satisfied: scipy>=1.3.2 in /home/babu/anaconda3/lib/python3.8/site-packages (from pmdarima) (1.6.2)\n",
      "Requirement already satisfied: setuptools!=50.0.0,>=38.6.0 in /home/babu/anaconda3/lib/python3.8/site-packages (from pmdarima) (52.0.0.post20210125)\n",
      "Requirement already satisfied: Cython!=0.29.18,>=0.29 in /home/babu/anaconda3/lib/python3.8/site-packages (from pmdarima) (0.29.23)\n",
      "Requirement already satisfied: statsmodels!=0.12.0,>=0.11 in /home/babu/anaconda3/lib/python3.8/site-packages (from pmdarima) (0.12.2)\n",
      "Requirement already satisfied: python-dateutil>=2.7.3 in /home/babu/anaconda3/lib/python3.8/site-packages (from pandas>=0.19->pmdarima) (2.8.1)\n",
      "Requirement already satisfied: pytz>=2017.3 in /home/babu/anaconda3/lib/python3.8/site-packages (from pandas>=0.19->pmdarima) (2021.1)\n",
      "Requirement already satisfied: six>=1.5 in /home/babu/anaconda3/lib/python3.8/site-packages (from python-dateutil>=2.7.3->pandas>=0.19->pmdarima) (1.15.0)\n",
      "Requirement already satisfied: threadpoolctl>=2.0.0 in /home/babu/anaconda3/lib/python3.8/site-packages (from scikit-learn>=0.22->pmdarima) (2.1.0)\n",
      "Requirement already satisfied: patsy>=0.5 in /home/babu/anaconda3/lib/python3.8/site-packages (from statsmodels!=0.12.0,>=0.11->pmdarima) (0.5.1)\n",
      "Note: you may need to restart the kernel to use updated packages.\n"
     ]
    }
   ],
   "source": [
    "pip install pmdarima --user"
   ]
  },
  {
   "cell_type": "code",
   "execution_count": 12,
   "id": "6964d4a3",
   "metadata": {
    "ExecuteTime": {
     "end_time": "2021-11-22T18:46:19.360872Z",
     "start_time": "2021-11-22T18:46:19.355115Z"
    }
   },
   "outputs": [],
   "source": [
    "totaldf = pd.DataFrame(df2['Value'])"
   ]
  },
  {
   "cell_type": "code",
   "execution_count": 13,
   "id": "1fc7b470",
   "metadata": {
    "ExecuteTime": {
     "end_time": "2021-11-22T18:46:22.307516Z",
     "start_time": "2021-11-22T18:46:22.295588Z"
    }
   },
   "outputs": [
    {
     "data": {
      "text/html": [
       "<div>\n",
       "<style scoped>\n",
       "    .dataframe tbody tr th:only-of-type {\n",
       "        vertical-align: middle;\n",
       "    }\n",
       "\n",
       "    .dataframe tbody tr th {\n",
       "        vertical-align: top;\n",
       "    }\n",
       "\n",
       "    .dataframe thead th {\n",
       "        text-align: right;\n",
       "    }\n",
       "</style>\n",
       "<table border=\"1\" class=\"dataframe\">\n",
       "  <thead>\n",
       "    <tr style=\"text-align: right;\">\n",
       "      <th></th>\n",
       "      <th>Value</th>\n",
       "    </tr>\n",
       "    <tr>\n",
       "      <th>Year</th>\n",
       "      <th></th>\n",
       "    </tr>\n",
       "  </thead>\n",
       "  <tbody>\n",
       "    <tr>\n",
       "      <th>1965</th>\n",
       "      <td>649661.589167</td>\n",
       "    </tr>\n",
       "    <tr>\n",
       "      <th>1966</th>\n",
       "      <td>699689.282906</td>\n",
       "    </tr>\n",
       "    <tr>\n",
       "      <th>1967</th>\n",
       "      <td>748366.461381</td>\n",
       "    </tr>\n",
       "    <tr>\n",
       "      <th>1968</th>\n",
       "      <td>807415.423125</td>\n",
       "    </tr>\n",
       "    <tr>\n",
       "      <th>1969</th>\n",
       "      <td>871515.185756</td>\n",
       "    </tr>\n",
       "  </tbody>\n",
       "</table>\n",
       "</div>"
      ],
      "text/plain": [
       "              Value\n",
       "Year               \n",
       "1965  649661.589167\n",
       "1966  699689.282906\n",
       "1967  748366.461381\n",
       "1968  807415.423125\n",
       "1969  871515.185756"
      ]
     },
     "execution_count": 13,
     "metadata": {},
     "output_type": "execute_result"
    }
   ],
   "source": [
    "totaldf.head()"
   ]
  },
  {
   "cell_type": "code",
   "execution_count": 15,
   "id": "fc4a0f92",
   "metadata": {
    "ExecuteTime": {
     "end_time": "2021-11-22T18:46:37.109063Z",
     "start_time": "2021-11-22T18:46:33.584947Z"
    }
   },
   "outputs": [],
   "source": [
    "from statsmodels.tsa.stattools import adfuller\n",
    "\n",
    "def ad_test(dataset):\n",
    "    dftest = adfuller(dataset, autolag = \"AIC\")\n",
    "    print(\"1.ADF :\", dftest[0])\n",
    "    print(\"2.P-Value:\", dftest[1])\n",
    "    print(\"3.Num of lags:\", dftest[2])\n",
    "    print(\"4. Num of Observations Used For Regression and critiacal values calculation:\", dftest[3])\n",
    "    print(\"5. Critical Values:\")\n",
    "    \n",
    "    for key, val in dftest[4].items():\n",
    "        print(\"\\t\", key, \" \", val)"
   ]
  },
  {
   "cell_type": "code",
   "execution_count": 16,
   "id": "c4133caf",
   "metadata": {
    "ExecuteTime": {
     "end_time": "2021-11-22T18:46:41.601088Z",
     "start_time": "2021-11-22T18:46:41.584344Z"
    }
   },
   "outputs": [
    {
     "name": "stdout",
     "output_type": "stream",
     "text": [
      "1.ADF : 1.0302435978016575\n",
      "2.P-Value: 0.9945750223868097\n",
      "3.Num of lags: 0\n",
      "4. Num of Observations Used For Regression and critiacal values calculation: 55\n",
      "5. Critical Values:\n",
      "\t 1%   -3.5552728880540942\n",
      "\t 5%   -2.9157312396694217\n",
      "\t 10%   -2.5956695041322315\n"
     ]
    }
   ],
   "source": [
    "ad_test(totaldf)"
   ]
  },
  {
   "cell_type": "code",
   "execution_count": 17,
   "id": "bff3af2b",
   "metadata": {
    "ExecuteTime": {
     "end_time": "2021-11-22T18:46:54.457953Z",
     "start_time": "2021-11-22T18:46:50.227966Z"
    }
   },
   "outputs": [],
   "source": [
    "from pmdarima import auto_arima\n",
    "import warnings"
   ]
  },
  {
   "cell_type": "code",
   "execution_count": 18,
   "id": "e58175c5",
   "metadata": {
    "ExecuteTime": {
     "end_time": "2021-11-22T18:46:58.209787Z",
     "start_time": "2021-11-22T18:46:57.626233Z"
    }
   },
   "outputs": [
    {
     "name": "stdout",
     "output_type": "stream",
     "text": [
      "Performing stepwise search to minimize aic\n",
      " ARIMA(2,1,2)(0,0,0)[0] intercept   : AIC=1408.057, Time=0.22 sec\n",
      " ARIMA(0,1,0)(0,0,0)[0] intercept   : AIC=1399.985, Time=0.01 sec\n",
      " ARIMA(1,1,0)(0,0,0)[0] intercept   : AIC=1402.047, Time=0.02 sec\n",
      " ARIMA(0,1,1)(0,0,0)[0] intercept   : AIC=1402.094, Time=0.02 sec\n",
      " ARIMA(0,1,0)(0,0,0)[0]             : AIC=1426.904, Time=0.01 sec\n",
      " ARIMA(1,1,1)(0,0,0)[0] intercept   : AIC=1404.095, Time=0.03 sec\n",
      "\n",
      "Best model:  ARIMA(0,1,0)(0,0,0)[0] intercept\n",
      "Total fit time: 0.570 seconds\n"
     ]
    },
    {
     "data": {
      "text/html": [
       "<table class=\"simpletable\">\n",
       "<caption>SARIMAX Results</caption>\n",
       "<tr>\n",
       "  <th>Dep. Variable:</th>           <td>y</td>        <th>  No. Observations:  </th>    <td>56</td>   \n",
       "</tr>\n",
       "<tr>\n",
       "  <th>Model:</th>           <td>SARIMAX(0, 1, 0)</td> <th>  Log Likelihood     </th> <td>-697.992</td>\n",
       "</tr>\n",
       "<tr>\n",
       "  <th>Date:</th>            <td>Tue, 23 Nov 2021</td> <th>  AIC                </th> <td>1399.985</td>\n",
       "</tr>\n",
       "<tr>\n",
       "  <th>Time:</th>                <td>00:46:58</td>     <th>  BIC                </th> <td>1403.999</td>\n",
       "</tr>\n",
       "<tr>\n",
       "  <th>Sample:</th>                  <td>0</td>        <th>  HQIC               </th> <td>1401.537</td>\n",
       "</tr>\n",
       "<tr>\n",
       "  <th></th>                       <td> - 56</td>      <th>                     </th>     <td> </td>   \n",
       "</tr>\n",
       "<tr>\n",
       "  <th>Covariance Type:</th>        <td>opg</td>       <th>                     </th>     <td> </td>   \n",
       "</tr>\n",
       "</table>\n",
       "<table class=\"simpletable\">\n",
       "<tr>\n",
       "      <td></td>         <th>coef</th>     <th>std err</th>      <th>z</th>      <th>P>|z|</th>  <th>[0.025</th>    <th>0.975]</th>  \n",
       "</tr>\n",
       "<tr>\n",
       "  <th>intercept</th> <td> 6.534e+04</td> <td> 1.06e+04</td> <td>    6.142</td> <td> 0.000</td> <td> 4.45e+04</td> <td> 8.62e+04</td>\n",
       "</tr>\n",
       "<tr>\n",
       "  <th>sigma2</th>    <td> 6.174e+09</td> <td> 6.08e+08</td> <td>   10.151</td> <td> 0.000</td> <td> 4.98e+09</td> <td> 7.37e+09</td>\n",
       "</tr>\n",
       "</table>\n",
       "<table class=\"simpletable\">\n",
       "<tr>\n",
       "  <th>Ljung-Box (L1) (Q):</th>     <td>0.18</td> <th>  Jarque-Bera (JB):  </th> <td>71.30</td>\n",
       "</tr>\n",
       "<tr>\n",
       "  <th>Prob(Q):</th>                <td>0.67</td> <th>  Prob(JB):          </th> <td>0.00</td> \n",
       "</tr>\n",
       "<tr>\n",
       "  <th>Heteroskedasticity (H):</th> <td>3.01</td> <th>  Skew:              </th> <td>-0.25</td>\n",
       "</tr>\n",
       "<tr>\n",
       "  <th>Prob(H) (two-sided):</th>    <td>0.02</td> <th>  Kurtosis:          </th> <td>8.56</td> \n",
       "</tr>\n",
       "</table><br/><br/>Warnings:<br/>[1] Covariance matrix calculated using the outer product of gradients (complex-step)."
      ],
      "text/plain": [
       "<class 'statsmodels.iolib.summary.Summary'>\n",
       "\"\"\"\n",
       "                               SARIMAX Results                                \n",
       "==============================================================================\n",
       "Dep. Variable:                      y   No. Observations:                   56\n",
       "Model:               SARIMAX(0, 1, 0)   Log Likelihood                -697.992\n",
       "Date:                Tue, 23 Nov 2021   AIC                           1399.985\n",
       "Time:                        00:46:58   BIC                           1403.999\n",
       "Sample:                             0   HQIC                          1401.537\n",
       "                                 - 56                                         \n",
       "Covariance Type:                  opg                                         \n",
       "==============================================================================\n",
       "                 coef    std err          z      P>|z|      [0.025      0.975]\n",
       "------------------------------------------------------------------------------\n",
       "intercept   6.534e+04   1.06e+04      6.142      0.000    4.45e+04    8.62e+04\n",
       "sigma2      6.174e+09   6.08e+08     10.151      0.000    4.98e+09    7.37e+09\n",
       "===================================================================================\n",
       "Ljung-Box (L1) (Q):                   0.18   Jarque-Bera (JB):                71.30\n",
       "Prob(Q):                              0.67   Prob(JB):                         0.00\n",
       "Heteroskedasticity (H):               3.01   Skew:                            -0.25\n",
       "Prob(H) (two-sided):                  0.02   Kurtosis:                         8.56\n",
       "===================================================================================\n",
       "\n",
       "Warnings:\n",
       "[1] Covariance matrix calculated using the outer product of gradients (complex-step).\n",
       "\"\"\""
      ]
     },
     "execution_count": 18,
     "metadata": {},
     "output_type": "execute_result"
    }
   ],
   "source": [
    "stepwise_fit = auto_arima(totaldf, trace = True, suppress_warnings= True)\n",
    "stepwise_fit.summary()"
   ]
  },
  {
   "cell_type": "code",
   "execution_count": 19,
   "id": "e33c1f81",
   "metadata": {
    "ExecuteTime": {
     "end_time": "2021-11-22T18:47:06.019850Z",
     "start_time": "2021-11-22T18:47:06.013079Z"
    }
   },
   "outputs": [
    {
     "name": "stdout",
     "output_type": "stream",
     "text": [
      "(46, 1) (10, 1)\n"
     ]
    }
   ],
   "source": [
    "train = totaldf.iloc[:-10]\n",
    "test = totaldf.iloc[-10:]\n",
    "print(train.shape,test.shape)"
   ]
  },
  {
   "cell_type": "code",
   "execution_count": 20,
   "id": "29e68763",
   "metadata": {
    "ExecuteTime": {
     "end_time": "2021-11-22T18:47:12.344893Z",
     "start_time": "2021-11-22T18:47:12.340606Z"
    }
   },
   "outputs": [
    {
     "data": {
      "text/plain": [
       "(56, 1)"
      ]
     },
     "execution_count": 20,
     "metadata": {},
     "output_type": "execute_result"
    }
   ],
   "source": [
    "totaldf.shape"
   ]
  },
  {
   "cell_type": "code",
   "execution_count": 21,
   "id": "cefa1bc7",
   "metadata": {
    "ExecuteTime": {
     "end_time": "2021-11-22T18:47:29.650360Z",
     "start_time": "2021-11-22T18:47:29.645327Z"
    }
   },
   "outputs": [],
   "source": [
    "from statsmodels.tsa.arima_model import ARIMA\n",
    "from scipy.stats import norm\n",
    "import statsmodels.api as sm"
   ]
  },
  {
   "cell_type": "code",
   "execution_count": 22,
   "id": "771a7f04",
   "metadata": {
    "ExecuteTime": {
     "end_time": "2021-11-22T18:47:35.072638Z",
     "start_time": "2021-11-22T18:47:34.891789Z"
    }
   },
   "outputs": [
    {
     "name": "stderr",
     "output_type": "stream",
     "text": [
      "/home/babu/anaconda3/lib/python3.8/site-packages/statsmodels/tsa/base/tsa_model.py:578: ValueWarning: An unsupported index was provided and will be ignored when e.g. forecasting.\n",
      "  warnings.warn('An unsupported index was provided and will be'\n",
      "/home/babu/anaconda3/lib/python3.8/site-packages/statsmodels/tsa/base/tsa_model.py:578: ValueWarning: An unsupported index was provided and will be ignored when e.g. forecasting.\n",
      "  warnings.warn('An unsupported index was provided and will be'\n"
     ]
    },
    {
     "data": {
      "text/html": [
       "<table class=\"simpletable\">\n",
       "<caption>SARIMAX Results</caption>\n",
       "<tr>\n",
       "  <th>Dep. Variable:</th>         <td>Value</td>      <th>  No. Observations:  </th>    <td>46</td>   \n",
       "</tr>\n",
       "<tr>\n",
       "  <th>Model:</th>           <td>SARIMAX(0, 1, 0)</td> <th>  Log Likelihood     </th> <td>-565.377</td>\n",
       "</tr>\n",
       "<tr>\n",
       "  <th>Date:</th>            <td>Tue, 23 Nov 2021</td> <th>  AIC                </th> <td>1134.754</td>\n",
       "</tr>\n",
       "<tr>\n",
       "  <th>Time:</th>                <td>00:47:35</td>     <th>  BIC                </th> <td>1138.367</td>\n",
       "</tr>\n",
       "<tr>\n",
       "  <th>Sample:</th>                  <td>0</td>        <th>  HQIC               </th> <td>1136.101</td>\n",
       "</tr>\n",
       "<tr>\n",
       "  <th></th>                       <td> - 46</td>      <th>                     </th>     <td> </td>   \n",
       "</tr>\n",
       "<tr>\n",
       "  <th>Covariance Type:</th>        <td>opg</td>       <th>                     </th>     <td> </td>   \n",
       "</tr>\n",
       "</table>\n",
       "<table class=\"simpletable\">\n",
       "<tr>\n",
       "      <td></td>         <th>coef</th>     <th>std err</th>      <th>z</th>      <th>P>|z|</th>  <th>[0.025</th>    <th>0.975]</th>  \n",
       "</tr>\n",
       "<tr>\n",
       "  <th>intercept</th> <td> 6.577e+04</td> <td> 1.49e+04</td> <td>    4.416</td> <td> 0.000</td> <td> 3.66e+04</td> <td>  9.5e+04</td>\n",
       "</tr>\n",
       "<tr>\n",
       "  <th>sigma2</th>    <td> 4.791e+09</td> <td> 8.76e+08</td> <td>    5.470</td> <td> 0.000</td> <td> 3.07e+09</td> <td> 6.51e+09</td>\n",
       "</tr>\n",
       "</table>\n",
       "<table class=\"simpletable\">\n",
       "<tr>\n",
       "  <th>Ljung-Box (L1) (Q):</th>     <td>0.24</td> <th>  Jarque-Bera (JB):  </th> <td>45.14</td>\n",
       "</tr>\n",
       "<tr>\n",
       "  <th>Prob(Q):</th>                <td>0.62</td> <th>  Prob(JB):          </th> <td>0.00</td> \n",
       "</tr>\n",
       "<tr>\n",
       "  <th>Heteroskedasticity (H):</th> <td>3.88</td> <th>  Skew:              </th> <td>1.70</td> \n",
       "</tr>\n",
       "<tr>\n",
       "  <th>Prob(H) (two-sided):</th>    <td>0.01</td> <th>  Kurtosis:          </th> <td>6.54</td> \n",
       "</tr>\n",
       "</table><br/><br/>Warnings:<br/>[1] Covariance matrix calculated using the outer product of gradients (complex-step)."
      ],
      "text/plain": [
       "<class 'statsmodels.iolib.summary.Summary'>\n",
       "\"\"\"\n",
       "                               SARIMAX Results                                \n",
       "==============================================================================\n",
       "Dep. Variable:                  Value   No. Observations:                   46\n",
       "Model:               SARIMAX(0, 1, 0)   Log Likelihood                -565.377\n",
       "Date:                Tue, 23 Nov 2021   AIC                           1134.754\n",
       "Time:                        00:47:35   BIC                           1138.367\n",
       "Sample:                             0   HQIC                          1136.101\n",
       "                                 - 46                                         \n",
       "Covariance Type:                  opg                                         \n",
       "==============================================================================\n",
       "                 coef    std err          z      P>|z|      [0.025      0.975]\n",
       "------------------------------------------------------------------------------\n",
       "intercept   6.577e+04   1.49e+04      4.416      0.000    3.66e+04     9.5e+04\n",
       "sigma2      4.791e+09   8.76e+08      5.470      0.000    3.07e+09    6.51e+09\n",
       "===================================================================================\n",
       "Ljung-Box (L1) (Q):                   0.24   Jarque-Bera (JB):                45.14\n",
       "Prob(Q):                              0.62   Prob(JB):                         0.00\n",
       "Heteroskedasticity (H):               3.88   Skew:                             1.70\n",
       "Prob(H) (two-sided):                  0.01   Kurtosis:                         6.54\n",
       "===================================================================================\n",
       "\n",
       "Warnings:\n",
       "[1] Covariance matrix calculated using the outer product of gradients (complex-step).\n",
       "\"\"\""
      ]
     },
     "execution_count": 22,
     "metadata": {},
     "output_type": "execute_result"
    }
   ],
   "source": [
    "model = sm.tsa.statespace.SARIMAX(train, trend= 'c', order = (0,1,0), enforce_stationarity=True)\n",
    "model = model.fit()\n",
    "model.summary()"
   ]
  },
  {
   "cell_type": "code",
   "execution_count": 76,
   "id": "2fdda3d9",
   "metadata": {
    "ExecuteTime": {
     "end_time": "2021-11-22T19:13:09.221533Z",
     "start_time": "2021-11-22T19:13:09.209813Z"
    }
   },
   "outputs": [
    {
     "name": "stdout",
     "output_type": "stream",
     "text": [
      "Year\n",
      "2011    3.675301e+06\n",
      "2012    3.741076e+06\n",
      "2013    3.806851e+06\n",
      "2014    3.872625e+06\n",
      "2015    3.938400e+06\n",
      "2016    4.004175e+06\n",
      "2017    4.069950e+06\n",
      "2018    4.135724e+06\n",
      "2019    4.201499e+06\n",
      "2020    4.267274e+06\n",
      "Name: predicted_mean, dtype: float64\n"
     ]
    },
    {
     "name": "stderr",
     "output_type": "stream",
     "text": [
      "/home/babu/anaconda3/lib/python3.8/site-packages/statsmodels/tsa/base/tsa_model.py:376: ValueWarning: No supported index is available. Prediction results will be given with an integer index beginning at `start`.\n",
      "  warnings.warn('No supported index is available.'\n"
     ]
    }
   ],
   "source": [
    "start = len(train)\n",
    "end = len(train)+len(test)-1\n",
    "pred = model.predict(start=start,end=end, typ= 'levels')\n",
    "#print(pred)\n",
    "pred.index =totaldf.index[start:end+1]\n",
    "print(pred)"
   ]
  },
  {
   "cell_type": "code",
   "execution_count": 109,
   "id": "a82b090a",
   "metadata": {
    "ExecuteTime": {
     "end_time": "2021-11-22T15:56:28.060850Z",
     "start_time": "2021-11-22T15:56:28.049277Z"
    }
   },
   "outputs": [
    {
     "data": {
      "text/html": [
       "<div>\n",
       "<style scoped>\n",
       "    .dataframe tbody tr th:only-of-type {\n",
       "        vertical-align: middle;\n",
       "    }\n",
       "\n",
       "    .dataframe tbody tr th {\n",
       "        vertical-align: top;\n",
       "    }\n",
       "\n",
       "    .dataframe thead th {\n",
       "        text-align: right;\n",
       "    }\n",
       "</style>\n",
       "<table border=\"1\" class=\"dataframe\">\n",
       "  <thead>\n",
       "    <tr style=\"text-align: right;\">\n",
       "      <th></th>\n",
       "      <th>Value</th>\n",
       "    </tr>\n",
       "    <tr>\n",
       "      <th>Year</th>\n",
       "      <th></th>\n",
       "    </tr>\n",
       "  </thead>\n",
       "  <tbody>\n",
       "    <tr>\n",
       "      <th>2016</th>\n",
       "      <td>4.147783e+06</td>\n",
       "    </tr>\n",
       "    <tr>\n",
       "      <th>2017</th>\n",
       "      <td>4.235142e+06</td>\n",
       "    </tr>\n",
       "    <tr>\n",
       "      <th>2018</th>\n",
       "      <td>4.410814e+06</td>\n",
       "    </tr>\n",
       "    <tr>\n",
       "      <th>2019</th>\n",
       "      <td>4.501920e+06</td>\n",
       "    </tr>\n",
       "    <tr>\n",
       "      <th>2020</th>\n",
       "      <td>4.243607e+06</td>\n",
       "    </tr>\n",
       "  </tbody>\n",
       "</table>\n",
       "</div>"
      ],
      "text/plain": [
       "             Value\n",
       "Year              \n",
       "2016  4.147783e+06\n",
       "2017  4.235142e+06\n",
       "2018  4.410814e+06\n",
       "2019  4.501920e+06\n",
       "2020  4.243607e+06"
      ]
     },
     "execution_count": 109,
     "metadata": {},
     "output_type": "execute_result"
    }
   ],
   "source": [
    "test.tail()"
   ]
  },
  {
   "cell_type": "code",
   "execution_count": 24,
   "id": "dee9647d",
   "metadata": {
    "ExecuteTime": {
     "end_time": "2021-11-22T18:47:51.078735Z",
     "start_time": "2021-11-22T18:47:50.899363Z"
    }
   },
   "outputs": [
    {
     "data": {
      "text/plain": [
       "<AxesSubplot:xlabel='Year'>"
      ]
     },
     "execution_count": 24,
     "metadata": {},
     "output_type": "execute_result"
    },
    {
     "data": {
      "image/png": "[encoded data removed]",
      "text/plain": [
       "<Figure size 960x480 with 1 Axes>"
      ]
     },
     "metadata": {
      "needs_background": "light"
     },
     "output_type": "display_data"
    }
   ],
   "source": [
    "plt.figure(figsize=(12, 6), dpi=80)\n",
    "pred.plot(legend=True,label=\"prediction\")\n",
    "test['Value'].plot(legend=True,label=\"orginal value\") \n"
   ]
  },
  {
   "cell_type": "code",
   "execution_count": 25,
   "id": "5a96ebf1",
   "metadata": {
    "ExecuteTime": {
     "end_time": "2021-11-22T18:47:59.059919Z",
     "start_time": "2021-11-22T18:47:59.051480Z"
    }
   },
   "outputs": [],
   "source": [
    "from sklearn.metrics import mean_squared_error\n",
    "from math import sqrt\n",
    "rmse = sqrt(mean_squared_error(pred,test['Value']))"
   ]
  },
  {
   "cell_type": "code",
   "execution_count": 115,
   "id": "9acf4df4",
   "metadata": {
    "ExecuteTime": {
     "end_time": "2021-11-22T16:03:56.843847Z",
     "start_time": "2021-11-22T16:03:56.839735Z"
    }
   },
   "outputs": [
    {
     "data": {
      "text/plain": [
       "159615.01931911716"
      ]
     },
     "execution_count": 115,
     "metadata": {},
     "output_type": "execute_result"
    }
   ],
   "source": [
    "rmse"
   ]
  },
  {
   "cell_type": "code",
   "execution_count": 198,
   "id": "c7ec2c4b",
   "metadata": {
    "ExecuteTime": {
     "end_time": "2021-11-25T08:47:09.546564Z",
     "start_time": "2021-11-25T08:47:09.518795Z"
    }
   },
   "outputs": [
    {
     "name": "stderr",
     "output_type": "stream",
     "text": [
      "/home/babu/anaconda3/lib/python3.8/site-packages/statsmodels/tsa/base/tsa_model.py:578: ValueWarning: An unsupported index was provided and will be ignored when e.g. forecasting.\n",
      "  warnings.warn('An unsupported index was provided and will be'\n",
      "/home/babu/anaconda3/lib/python3.8/site-packages/statsmodels/tsa/base/tsa_model.py:578: ValueWarning: An unsupported index was provided and will be ignored when e.g. forecasting.\n",
      "  warnings.warn('An unsupported index was provided and will be'\n"
     ]
    },
    {
     "data": {
      "text/html": [
       "<table class=\"simpletable\">\n",
       "<caption>SARIMAX Results</caption>\n",
       "<tr>\n",
       "  <th>Dep. Variable:</th>         <td>Value</td>      <th>  No. Observations:  </th>    <td>56</td>   \n",
       "</tr>\n",
       "<tr>\n",
       "  <th>Model:</th>           <td>SARIMAX(0, 1, 0)</td> <th>  Log Likelihood     </th> <td>-697.992</td>\n",
       "</tr>\n",
       "<tr>\n",
       "  <th>Date:</th>            <td>Thu, 25 Nov 2021</td> <th>  AIC                </th> <td>1399.985</td>\n",
       "</tr>\n",
       "<tr>\n",
       "  <th>Time:</th>                <td>14:47:09</td>     <th>  BIC                </th> <td>1403.999</td>\n",
       "</tr>\n",
       "<tr>\n",
       "  <th>Sample:</th>                  <td>0</td>        <th>  HQIC               </th> <td>1401.537</td>\n",
       "</tr>\n",
       "<tr>\n",
       "  <th></th>                       <td> - 56</td>      <th>                     </th>     <td> </td>   \n",
       "</tr>\n",
       "<tr>\n",
       "  <th>Covariance Type:</th>        <td>opg</td>       <th>                     </th>     <td> </td>   \n",
       "</tr>\n",
       "</table>\n",
       "<table class=\"simpletable\">\n",
       "<tr>\n",
       "      <td></td>         <th>coef</th>     <th>std err</th>      <th>z</th>      <th>P>|z|</th>  <th>[0.025</th>    <th>0.975]</th>  \n",
       "</tr>\n",
       "<tr>\n",
       "  <th>intercept</th> <td> 6.534e+04</td> <td> 1.06e+04</td> <td>    6.142</td> <td> 0.000</td> <td> 4.45e+04</td> <td> 8.62e+04</td>\n",
       "</tr>\n",
       "<tr>\n",
       "  <th>sigma2</th>    <td> 6.174e+09</td> <td> 6.08e+08</td> <td>   10.151</td> <td> 0.000</td> <td> 4.98e+09</td> <td> 7.37e+09</td>\n",
       "</tr>\n",
       "</table>\n",
       "<table class=\"simpletable\">\n",
       "<tr>\n",
       "  <th>Ljung-Box (L1) (Q):</th>     <td>0.18</td> <th>  Jarque-Bera (JB):  </th> <td>71.30</td>\n",
       "</tr>\n",
       "<tr>\n",
       "  <th>Prob(Q):</th>                <td>0.67</td> <th>  Prob(JB):          </th> <td>0.00</td> \n",
       "</tr>\n",
       "<tr>\n",
       "  <th>Heteroskedasticity (H):</th> <td>3.01</td> <th>  Skew:              </th> <td>-0.25</td>\n",
       "</tr>\n",
       "<tr>\n",
       "  <th>Prob(H) (two-sided):</th>    <td>0.02</td> <th>  Kurtosis:          </th> <td>8.56</td> \n",
       "</tr>\n",
       "</table><br/><br/>Warnings:<br/>[1] Covariance matrix calculated using the outer product of gradients (complex-step)."
      ],
      "text/plain": [
       "<class 'statsmodels.iolib.summary.Summary'>\n",
       "\"\"\"\n",
       "                               SARIMAX Results                                \n",
       "==============================================================================\n",
       "Dep. Variable:                  Value   No. Observations:                   56\n",
       "Model:               SARIMAX(0, 1, 0)   Log Likelihood                -697.992\n",
       "Date:                Thu, 25 Nov 2021   AIC                           1399.985\n",
       "Time:                        14:47:09   BIC                           1403.999\n",
       "Sample:                             0   HQIC                          1401.537\n",
       "                                 - 56                                         \n",
       "Covariance Type:                  opg                                         \n",
       "==============================================================================\n",
       "                 coef    std err          z      P>|z|      [0.025      0.975]\n",
       "------------------------------------------------------------------------------\n",
       "intercept   6.534e+04   1.06e+04      6.142      0.000    4.45e+04    8.62e+04\n",
       "sigma2      6.174e+09   6.08e+08     10.151      0.000    4.98e+09    7.37e+09\n",
       "===================================================================================\n",
       "Ljung-Box (L1) (Q):                   0.18   Jarque-Bera (JB):                71.30\n",
       "Prob(Q):                              0.67   Prob(JB):                         0.00\n",
       "Heteroskedasticity (H):               3.01   Skew:                            -0.25\n",
       "Prob(H) (two-sided):                  0.02   Kurtosis:                         8.56\n",
       "===================================================================================\n",
       "\n",
       "Warnings:\n",
       "[1] Covariance matrix calculated using the outer product of gradients (complex-step).\n",
       "\"\"\""
      ]
     },
     "execution_count": 198,
     "metadata": {},
     "output_type": "execute_result"
    }
   ],
   "source": [
    "model2 = sm.tsa.statespace.SARIMAX(totaldf, trend= 'c', order = (0,1,0))\n",
    "model2 = model2.fit()\n",
    "model2.summary()"
   ]
  },
  {
   "cell_type": "markdown",
   "id": "bbff925c",
   "metadata": {},
   "source": [
    "# predicting the future production\n"
   ]
  },
  {
   "cell_type": "code",
   "execution_count": 202,
   "id": "21d6ee88",
   "metadata": {
    "ExecuteTime": {
     "end_time": "2021-11-25T08:55:09.788562Z",
     "start_time": "2021-11-25T08:55:09.775697Z"
    }
   },
   "outputs": [
    {
     "name": "stdout",
     "output_type": "stream",
     "text": [
      "2021    4.308952e+06\n",
      "2022    4.374296e+06\n",
      "2023    4.439641e+06\n",
      "2024    4.504985e+06\n",
      "2025    4.570330e+06\n",
      "2026    4.635674e+06\n",
      "2027    4.701019e+06\n",
      "2028    4.766363e+06\n",
      "2029    4.831708e+06\n",
      "2030    4.897052e+06\n",
      "2031    4.962397e+06\n",
      "2032    5.027741e+06\n",
      "2033    5.093085e+06\n",
      "2034    5.158430e+06\n",
      "2035    5.223774e+06\n",
      "2036    5.289119e+06\n",
      "2037    5.354463e+06\n",
      "2038    5.419808e+06\n",
      "2039    5.485152e+06\n",
      "2040    5.550497e+06\n",
      "Name: Arima pred, dtype: float64\n"
     ]
    },
    {
     "name": "stderr",
     "output_type": "stream",
     "text": [
      "/home/babu/anaconda3/lib/python3.8/site-packages/statsmodels/tsa/base/tsa_model.py:376: ValueWarning: No supported index is available. Prediction results will be given with an integer index beginning at `start`.\n",
      "  warnings.warn('No supported index is available.'\n"
     ]
    }
   ],
   "source": [
    "index_future_Year=pd.RangeIndex(start=2021,stop=2041)\n",
    "pred2=model2.predict(start=len(totaldf),end=len(totaldf)+19,typ='levels').rename(\"Arima pred\")\n",
    "pred2.index= index_future_Year\n",
    "print(pred2)"
   ]
  },
  {
   "cell_type": "code",
   "execution_count": 203,
   "id": "e9b73cde",
   "metadata": {
    "ExecuteTime": {
     "end_time": "2021-11-25T08:56:45.795056Z",
     "start_time": "2021-11-25T08:56:45.474465Z"
    }
   },
   "outputs": [
    {
     "data": {
      "text/plain": [
       "<AxesSubplot:>"
      ]
     },
     "execution_count": 203,
     "metadata": {},
     "output_type": "execute_result"
    },
    {
     "data": {
      "image/png": "[encoded data removed]",
      "text/plain": [
       "<Figure size 864x432 with 1 Axes>"
      ]
     },
     "metadata": {
      "needs_background": "light"
     },
     "output_type": "display_data"
    }
   ],
   "source": [
    "plt.figure(figsize=(12,6))\n",
    "pred2.plot(legend=True)\n"
   ]
  },
  {
   "cell_type": "code",
   "execution_count": 105,
   "id": "1a206123",
   "metadata": {
    "ExecuteTime": {
     "end_time": "2021-11-22T19:36:11.225435Z",
     "start_time": "2021-11-22T19:36:11.222386Z"
    }
   },
   "outputs": [],
   "source": [
    "totaldfn =pd.DataFrame()"
   ]
  },
  {
   "cell_type": "markdown",
   "id": "0dba362e",
   "metadata": {},
   "source": [
    "# Neural network"
   ]
  },
  {
   "cell_type": "code",
   "execution_count": 106,
   "id": "c258b082",
   "metadata": {
    "ExecuteTime": {
     "end_time": "2021-11-22T19:36:20.383107Z",
     "start_time": "2021-11-22T19:36:20.379261Z"
    }
   },
   "outputs": [],
   "source": [
    "totaldfn['Value']=totaldf[\"Value\"]\n",
    "#totaldfn['next1year']=totaldf[\"Value\"].shift(+1)\n",
    "#totaldfn['next2year']=totaldf[\"Value\"].shift(+2)\n",
    "#totaldfn['next3year']=totaldf[\"Value\"].shift(+3)"
   ]
  },
  {
   "cell_type": "code",
   "execution_count": 103,
   "id": "31e5a0e6",
   "metadata": {
    "ExecuteTime": {
     "end_time": "2021-11-22T19:36:01.761814Z",
     "start_time": "2021-11-22T19:36:01.757972Z"
    }
   },
   "outputs": [],
   "source": [
    "totaldfn=totaldfn.dropna()"
   ]
  },
  {
   "cell_type": "code",
   "execution_count": 107,
   "id": "0f4f2c83",
   "metadata": {
    "ExecuteTime": {
     "end_time": "2021-11-22T19:36:25.080911Z",
     "start_time": "2021-11-22T19:36:25.070794Z"
    }
   },
   "outputs": [
    {
     "data": {
      "text/html": [
       "<div>\n",
       "<style scoped>\n",
       "    .dataframe tbody tr th:only-of-type {\n",
       "        vertical-align: middle;\n",
       "    }\n",
       "\n",
       "    .dataframe tbody tr th {\n",
       "        vertical-align: top;\n",
       "    }\n",
       "\n",
       "    .dataframe thead th {\n",
       "        text-align: right;\n",
       "    }\n",
       "</style>\n",
       "<table border=\"1\" class=\"dataframe\">\n",
       "  <thead>\n",
       "    <tr style=\"text-align: right;\">\n",
       "      <th></th>\n",
       "      <th>Value</th>\n",
       "    </tr>\n",
       "    <tr>\n",
       "      <th>Year</th>\n",
       "      <th></th>\n",
       "    </tr>\n",
       "  </thead>\n",
       "  <tbody>\n",
       "    <tr>\n",
       "      <th>1965</th>\n",
       "      <td>649661.589167</td>\n",
       "    </tr>\n",
       "    <tr>\n",
       "      <th>1966</th>\n",
       "      <td>699689.282906</td>\n",
       "    </tr>\n",
       "    <tr>\n",
       "      <th>1967</th>\n",
       "      <td>748366.461381</td>\n",
       "    </tr>\n",
       "    <tr>\n",
       "      <th>1968</th>\n",
       "      <td>807415.423125</td>\n",
       "    </tr>\n",
       "    <tr>\n",
       "      <th>1969</th>\n",
       "      <td>871515.185756</td>\n",
       "    </tr>\n",
       "  </tbody>\n",
       "</table>\n",
       "</div>"
      ],
      "text/plain": [
       "              Value\n",
       "Year               \n",
       "1965  649661.589167\n",
       "1966  699689.282906\n",
       "1967  748366.461381\n",
       "1968  807415.423125\n",
       "1969  871515.185756"
      ]
     },
     "execution_count": 107,
     "metadata": {},
     "output_type": "execute_result"
    }
   ],
   "source": [
    "totaldfn.head()"
   ]
  },
  {
   "cell_type": "code",
   "execution_count": 149,
   "id": "d4f63743",
   "metadata": {
    "ExecuteTime": {
     "end_time": "2021-11-22T20:21:34.850924Z",
     "start_time": "2021-11-22T20:21:34.846402Z"
    }
   },
   "outputs": [
    {
     "data": {
      "text/plain": [
       "20"
      ]
     },
     "execution_count": 149,
     "metadata": {},
     "output_type": "execute_result"
    }
   ],
   "source": [
    "ntrain = totaldfn.iloc[:-20]\n",
    "ntest = totaldfn.iloc[-20:]\n",
    "len(ntest)"
   ]
  },
  {
   "cell_type": "code",
   "execution_count": 150,
   "id": "d6da7055",
   "metadata": {
    "ExecuteTime": {
     "end_time": "2021-11-22T20:21:37.909369Z",
     "start_time": "2021-11-22T20:21:37.904216Z"
    }
   },
   "outputs": [],
   "source": [
    "from sklearn.preprocessing import MinMaxScaler\n",
    "slr = MinMaxScaler()"
   ]
  },
  {
   "cell_type": "code",
   "execution_count": 151,
   "id": "bf7ec575",
   "metadata": {
    "ExecuteTime": {
     "end_time": "2021-11-22T20:21:40.763548Z",
     "start_time": "2021-11-22T20:21:40.752572Z"
    }
   },
   "outputs": [],
   "source": [
    "slr.fit(ntrain)\n",
    "strain=slr.transform(ntrain)\n",
    "stest=slr.transform(ntest)"
   ]
  },
  {
   "cell_type": "code",
   "execution_count": 152,
   "id": "5c9f55c3",
   "metadata": {
    "ExecuteTime": {
     "end_time": "2021-11-22T20:21:46.221688Z",
     "start_time": "2021-11-22T20:21:46.212801Z"
    }
   },
   "outputs": [],
   "source": [
    "#import tensorflow as tf\n",
    "from keras.preprocessing.sequence import TimeseriesGenerator"
   ]
  },
  {
   "cell_type": "code",
   "execution_count": null,
   "id": "854b6eb0",
   "metadata": {},
   "outputs": [],
   "source": []
  },
  {
   "cell_type": "code",
   "execution_count": 174,
   "id": "fb1a85b0",
   "metadata": {
    "ExecuteTime": {
     "end_time": "2021-11-22T22:29:15.386211Z",
     "start_time": "2021-11-22T22:29:15.383214Z"
    }
   },
   "outputs": [],
   "source": [
    "n_input =5\n",
    "n_features =1\n",
    "generator = TimeseriesGenerator(strain,strain,length=n_input,batch_size =1)"
   ]
  },
  {
   "cell_type": "code",
   "execution_count": 155,
   "id": "03e2d04a",
   "metadata": {
    "ExecuteTime": {
     "end_time": "2021-11-22T20:22:12.900904Z",
     "start_time": "2021-11-22T20:22:12.898114Z"
    }
   },
   "outputs": [],
   "source": [
    "from keras.models import Sequential\n",
    "from keras.layers import Dense\n",
    "from keras.layers import LSTM"
   ]
  },
  {
   "cell_type": "code",
   "execution_count": 175,
   "id": "f632638a",
   "metadata": {
    "ExecuteTime": {
     "end_time": "2021-11-22T22:29:21.475062Z",
     "start_time": "2021-11-22T22:29:21.369988Z"
    }
   },
   "outputs": [],
   "source": [
    "nmodel = Sequential()\n",
    "nmodel.add(LSTM(100, activation='sigmoid', input_shape=(n_input,n_features)))\n",
    "nmodel.add(Dense(10))\n",
    "nmodel.add(Dense(10))\n",
    "nmodel.add(Dense(1))\n",
    "nmodel.compile(optimizer='adam',loss='mse')"
   ]
  },
  {
   "cell_type": "code",
   "execution_count": 157,
   "id": "09340c70",
   "metadata": {
    "ExecuteTime": {
     "end_time": "2021-11-22T20:22:18.762900Z",
     "start_time": "2021-11-22T20:22:18.756827Z"
    }
   },
   "outputs": [
    {
     "name": "stdout",
     "output_type": "stream",
     "text": [
      "Model: \"sequential_8\"\n",
      "_________________________________________________________________\n",
      " Layer (type)                Output Shape              Param #   \n",
      "=================================================================\n",
      " lstm_8 (LSTM)               (None, 100)               40800     \n",
      "                                                                 \n",
      " dense_24 (Dense)            (None, 10)                1010      \n",
      "                                                                 \n",
      " dense_25 (Dense)            (None, 10)                110       \n",
      "                                                                 \n",
      " dense_26 (Dense)            (None, 1)                 11        \n",
      "                                                                 \n",
      "=================================================================\n",
      "Total params: 41,931\n",
      "Trainable params: 41,931\n",
      "Non-trainable params: 0\n",
      "_________________________________________________________________\n"
     ]
    }
   ],
   "source": [
    "nmodel.summary()"
   ]
  },
  {
   "cell_type": "code",
   "execution_count": 176,
   "id": "786aa8ab",
   "metadata": {
    "ExecuteTime": {
     "end_time": "2021-11-22T22:29:38.301359Z",
     "start_time": "2021-11-22T22:29:31.359329Z"
    }
   },
   "outputs": [
    {
     "name": "stdout",
     "output_type": "stream",
     "text": [
      "Epoch 1/50\n",
      "31/31 [==============================] - 1s 3ms/step - loss: 0.1740\n",
      "Epoch 2/50\n",
      "31/31 [==============================] - 0s 3ms/step - loss: 0.0417\n",
      "Epoch 3/50\n",
      "31/31 [==============================] - 0s 3ms/step - loss: 0.0399\n",
      "Epoch 4/50\n",
      "31/31 [==============================] - 0s 3ms/step - loss: 0.0558\n",
      "Epoch 5/50\n",
      "31/31 [==============================] - 0s 3ms/step - loss: 0.0382\n",
      "Epoch 6/50\n",
      "31/31 [==============================] - 0s 3ms/step - loss: 0.0357\n",
      "Epoch 7/50\n",
      "31/31 [==============================] - 0s 3ms/step - loss: 0.0457\n",
      "Epoch 8/50\n",
      "31/31 [==============================] - 0s 3ms/step - loss: 0.0526\n",
      "Epoch 9/50\n",
      "31/31 [==============================] - 0s 3ms/step - loss: 0.0334\n",
      "Epoch 10/50\n",
      "31/31 [==============================] - 0s 3ms/step - loss: 0.0322\n",
      "Epoch 11/50\n",
      "31/31 [==============================] - 0s 3ms/step - loss: 0.0370\n",
      "Epoch 12/50\n",
      "31/31 [==============================] - 0s 3ms/step - loss: 0.0315\n",
      "Epoch 13/50\n",
      "31/31 [==============================] - 0s 3ms/step - loss: 0.0407\n",
      "Epoch 14/50\n",
      "31/31 [==============================] - 0s 3ms/step - loss: 0.0283\n",
      "Epoch 15/50\n",
      "31/31 [==============================] - 0s 3ms/step - loss: 0.0258\n",
      "Epoch 16/50\n",
      "31/31 [==============================] - 0s 3ms/step - loss: 0.0205\n",
      "Epoch 17/50\n",
      "31/31 [==============================] - 0s 3ms/step - loss: 0.0281\n",
      "Epoch 18/50\n",
      "31/31 [==============================] - 0s 3ms/step - loss: 0.0228\n",
      "Epoch 19/50\n",
      "31/31 [==============================] - 0s 3ms/step - loss: 0.0188\n",
      "Epoch 20/50\n",
      "31/31 [==============================] - 0s 3ms/step - loss: 0.0186\n",
      "Epoch 21/50\n",
      "31/31 [==============================] - 0s 3ms/step - loss: 0.0189\n",
      "Epoch 22/50\n",
      "31/31 [==============================] - 0s 3ms/step - loss: 0.0130\n",
      "Epoch 23/50\n",
      "31/31 [==============================] - 0s 3ms/step - loss: 0.0144\n",
      "Epoch 24/50\n",
      "31/31 [==============================] - 0s 3ms/step - loss: 0.0131\n",
      "Epoch 25/50\n",
      "31/31 [==============================] - 0s 3ms/step - loss: 0.0117\n",
      "Epoch 26/50\n",
      "31/31 [==============================] - 0s 3ms/step - loss: 0.0088\n",
      "Epoch 27/50\n",
      "31/31 [==============================] - 0s 3ms/step - loss: 0.0079\n",
      "Epoch 28/50\n",
      "31/31 [==============================] - 0s 3ms/step - loss: 0.0064\n",
      "Epoch 29/50\n",
      "31/31 [==============================] - 0s 3ms/step - loss: 0.0055\n",
      "Epoch 30/50\n",
      "31/31 [==============================] - 0s 3ms/step - loss: 0.0038\n",
      "Epoch 31/50\n",
      "31/31 [==============================] - 0s 3ms/step - loss: 0.0029\n",
      "Epoch 32/50\n",
      "31/31 [==============================] - 0s 3ms/step - loss: 0.0029\n",
      "Epoch 33/50\n",
      "31/31 [==============================] - 0s 3ms/step - loss: 0.0042\n",
      "Epoch 34/50\n",
      "31/31 [==============================] - 0s 3ms/step - loss: 0.0020\n",
      "Epoch 35/50\n",
      "31/31 [==============================] - 0s 3ms/step - loss: 0.0032\n",
      "Epoch 36/50\n",
      "31/31 [==============================] - 0s 3ms/step - loss: 0.0025\n",
      "Epoch 37/50\n",
      "31/31 [==============================] - 0s 3ms/step - loss: 0.0044\n",
      "Epoch 38/50\n",
      "31/31 [==============================] - 0s 3ms/step - loss: 0.0026\n",
      "Epoch 39/50\n",
      "31/31 [==============================] - 0s 3ms/step - loss: 0.0030\n",
      "Epoch 40/50\n",
      "31/31 [==============================] - 0s 3ms/step - loss: 0.0035\n",
      "Epoch 41/50\n",
      "31/31 [==============================] - 0s 3ms/step - loss: 0.0022\n",
      "Epoch 42/50\n",
      "31/31 [==============================] - 0s 3ms/step - loss: 0.0039\n",
      "Epoch 43/50\n",
      "31/31 [==============================] - 0s 3ms/step - loss: 0.0059\n",
      "Epoch 44/50\n",
      "31/31 [==============================] - 0s 3ms/step - loss: 0.0027\n",
      "Epoch 45/50\n",
      "31/31 [==============================] - 0s 3ms/step - loss: 0.0051\n",
      "Epoch 46/50\n",
      "31/31 [==============================] - 0s 3ms/step - loss: 0.0028\n",
      "Epoch 47/50\n",
      "31/31 [==============================] - 0s 3ms/step - loss: 0.0031\n",
      "Epoch 48/50\n",
      "31/31 [==============================] - 0s 3ms/step - loss: 0.0032\n",
      "Epoch 49/50\n",
      "31/31 [==============================] - 0s 3ms/step - loss: 0.0022\n",
      "Epoch 50/50\n",
      "31/31 [==============================] - 0s 3ms/step - loss: 0.0020\n"
     ]
    },
    {
     "data": {
      "text/plain": [
       "<keras.callbacks.History at 0x7f0c9fe639d0>"
      ]
     },
     "execution_count": 176,
     "metadata": {},
     "output_type": "execute_result"
    }
   ],
   "source": [
    "nmodel.fit(generator,epochs=50)"
   ]
  },
  {
   "cell_type": "code",
   "execution_count": 177,
   "id": "3728e180",
   "metadata": {
    "ExecuteTime": {
     "end_time": "2021-11-22T22:29:45.645255Z",
     "start_time": "2021-11-22T22:29:45.505947Z"
    }
   },
   "outputs": [
    {
     "data": {
      "text/plain": [
       "[<matplotlib.lines.Line2D at 0x7f0c9fbb6a60>]"
      ]
     },
     "execution_count": 177,
     "metadata": {},
     "output_type": "execute_result"
    },
    {
     "data": {
      "image/png": "[encoded data removed]",
      "text/plain": [
       "<Figure size 432x288 with 1 Axes>"
      ]
     },
     "metadata": {
      "needs_background": "light"
     },
     "output_type": "display_data"
    }
   ],
   "source": [
    "epo_loss =nmodel.history.history['loss']\n",
    "plt.plot(range(len(epo_loss)), epo_loss)"
   ]
  },
  {
   "cell_type": "code",
   "execution_count": 178,
   "id": "3359727d",
   "metadata": {
    "ExecuteTime": {
     "end_time": "2021-11-22T22:29:52.383967Z",
     "start_time": "2021-11-22T22:29:51.445008Z"
    }
   },
   "outputs": [],
   "source": [
    "test_pred=[]\n",
    "\n",
    "fst_batch = strain[-n_input:]\n",
    "\n",
    "cur_batch = fst_batch.reshape((1,n_input, n_features))\n",
    "\n",
    "for i in range(len(stest)):\n",
    "    cur_pred= nmodel.predict(cur_batch)[0]\n",
    "    \n",
    "    test_pred.append(cur_pred)\n",
    "    \n",
    "    cur_batch =np.append(cur_batch[:,1:,:],[[cur_pred]],axis=1)"
   ]
  },
  {
   "cell_type": "code",
   "execution_count": 129,
   "id": "7a3ab86c",
   "metadata": {
    "ExecuteTime": {
     "end_time": "2021-11-22T19:48:48.244224Z",
     "start_time": "2021-11-22T19:48:48.238255Z"
    }
   },
   "outputs": [
    {
     "data": {
      "text/plain": [
       "[array([1.0710411], dtype=float32),\n",
       " array([1.1393245], dtype=float32),\n",
       " array([1.208268], dtype=float32),\n",
       " array([1.2786957], dtype=float32),\n",
       " array([1.3508797], dtype=float32),\n",
       " array([1.4249083], dtype=float32),\n",
       " array([1.5006553], dtype=float32),\n",
       " array([1.5778782], dtype=float32),\n",
       " array([1.6562852], dtype=float32),\n",
       " array([1.7358059], dtype=float32)]"
      ]
     },
     "execution_count": 129,
     "metadata": {},
     "output_type": "execute_result"
    }
   ],
   "source": [
    "test_pred\n"
   ]
  },
  {
   "cell_type": "code",
   "execution_count": 179,
   "id": "0eab5d49",
   "metadata": {
    "ExecuteTime": {
     "end_time": "2021-11-22T22:29:58.398703Z",
     "start_time": "2021-11-22T22:29:58.393705Z"
    }
   },
   "outputs": [],
   "source": [
    "true_pred = slr.inverse_transform(test_pred)"
   ]
  },
  {
   "cell_type": "code",
   "execution_count": 180,
   "id": "745c708d",
   "metadata": {
    "ExecuteTime": {
     "end_time": "2021-11-22T22:30:00.872734Z",
     "start_time": "2021-11-22T22:30:00.869045Z"
    }
   },
   "outputs": [
    {
     "name": "stderr",
     "output_type": "stream",
     "text": [
      "<ipython-input-180-993f85c62ec9>:1: SettingWithCopyWarning: \n",
      "A value is trying to be set on a copy of a slice from a DataFrame.\n",
      "Try using .loc[row_indexer,col_indexer] = value instead\n",
      "\n",
      "See the caveats in the documentation: https://pandas.pydata.org/pandas-docs/stable/user_guide/indexing.html#returning-a-view-versus-a-copy\n",
      "  ntest['predictions'] = true_pred\n"
     ]
    }
   ],
   "source": [
    "ntest['predictions'] = true_pred"
   ]
  },
  {
   "cell_type": "code",
   "execution_count": 181,
   "id": "1a4da342",
   "metadata": {
    "ExecuteTime": {
     "end_time": "2021-11-22T22:30:04.153045Z",
     "start_time": "2021-11-22T22:30:03.951847Z"
    }
   },
   "outputs": [
    {
     "data": {
      "text/plain": [
       "<AxesSubplot:xlabel='Year'>"
      ]
     },
     "execution_count": 181,
     "metadata": {},
     "output_type": "execute_result"
    },
    {
     "data": {
      "image/png": "[encoded data removed]",
      "text/plain": [
       "<Figure size 864x432 with 1 Axes>"
      ]
     },
     "metadata": {
      "needs_background": "light"
     },
     "output_type": "display_data"
    }
   ],
   "source": [
    "ntest.plot(figsize=(12,6))"
   ]
  },
  {
   "cell_type": "code",
   "execution_count": null,
   "id": "725c3144",
   "metadata": {},
   "outputs": [],
   "source": []
  }
 ],
 "metadata": {
  "kernelspec": {
   "display_name": "Python 3",
   "language": "python",
   "name": "python3"
  },
  "language_info": {
   "codemirror_mode": {
    "name": "ipython",
    "version": 3
   },
   "file_extension": ".py",
   "mimetype": "text/x-python",
   "name": "python",
   "nbconvert_exporter": "python",
   "pygments_lexer": "ipython3",
   "version": "3.8.8"
  }
 },
 "nbformat": 4,
 "nbformat_minor": 5
}
